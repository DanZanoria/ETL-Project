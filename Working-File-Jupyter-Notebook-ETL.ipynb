{
 "cells": [
  {
   "cell_type": "code",
   "execution_count": 20,
   "metadata": {},
   "outputs": [],
   "source": [
    "# Import Modules\n",
    "import pandas as pd\n",
    "from sqlalchemy import create_engine\n",
    "import matplotlib.pyplot as plt\n",
    "import datetime"
   ]
  },
  {
   "cell_type": "code",
   "execution_count": 2,
   "metadata": {},
   "outputs": [
    {
     "output_type": "execute_result",
     "data": {
      "text/plain": [
       "       Country  Happiness.Rank  Happiness.Score  Whisker.high  Whisker.low  \\\n",
       "0       Norway               1            7.537      7.594445     7.479556   \n",
       "1      Denmark               2            7.522      7.581728     7.462272   \n",
       "2      Iceland               3            7.504      7.622030     7.385970   \n",
       "3  Switzerland               4            7.494      7.561772     7.426227   \n",
       "4      Finland               5            7.469      7.527542     7.410458   \n",
       "5  Netherlands               6            7.377      7.427426     7.326574   \n",
       "6       Canada               7            7.316      7.384403     7.247597   \n",
       "7  New Zealand               8            7.314      7.379510     7.248490   \n",
       "8       Sweden               9            7.284      7.344095     7.223905   \n",
       "9    Australia              10            7.284      7.356651     7.211349   \n",
       "\n",
       "   Economy..GDP.per.Capita.    Family  Health..Life.Expectancy.   Freedom  \\\n",
       "0                  1.616463  1.533524                  0.796667  0.635423   \n",
       "1                  1.482383  1.551122                  0.792566  0.626007   \n",
       "2                  1.480633  1.610574                  0.833552  0.627163   \n",
       "3                  1.564980  1.516912                  0.858131  0.620071   \n",
       "4                  1.443572  1.540247                  0.809158  0.617951   \n",
       "5                  1.503945  1.428939                  0.810696  0.585384   \n",
       "6                  1.479204  1.481349                  0.834558  0.611101   \n",
       "7                  1.405706  1.548195                  0.816760  0.614062   \n",
       "8                  1.494387  1.478162                  0.830875  0.612924   \n",
       "9                  1.484415  1.510042                  0.843887  0.601607   \n",
       "\n",
       "   Generosity  Trust..Government.Corruption.  Dystopia.Residual  \n",
       "0    0.362012                       0.315964           2.277027  \n",
       "1    0.355280                       0.400770           2.313707  \n",
       "2    0.475540                       0.153527           2.322715  \n",
       "3    0.290549                       0.367007           2.276716  \n",
       "4    0.245483                       0.382612           2.430182  \n",
       "5    0.470490                       0.282662           2.294804  \n",
       "6    0.435540                       0.287372           2.187264  \n",
       "7    0.500005                       0.382817           2.046456  \n",
       "8    0.385399                       0.384399           2.097538  \n",
       "9    0.477699                       0.301184           2.065211  "
      ],
      "text/html": "<div>\n<style scoped>\n    .dataframe tbody tr th:only-of-type {\n        vertical-align: middle;\n    }\n\n    .dataframe tbody tr th {\n        vertical-align: top;\n    }\n\n    .dataframe thead th {\n        text-align: right;\n    }\n</style>\n<table border=\"1\" class=\"dataframe\">\n  <thead>\n    <tr style=\"text-align: right;\">\n      <th></th>\n      <th>Country</th>\n      <th>Happiness.Rank</th>\n      <th>Happiness.Score</th>\n      <th>Whisker.high</th>\n      <th>Whisker.low</th>\n      <th>Economy..GDP.per.Capita.</th>\n      <th>Family</th>\n      <th>Health..Life.Expectancy.</th>\n      <th>Freedom</th>\n      <th>Generosity</th>\n      <th>Trust..Government.Corruption.</th>\n      <th>Dystopia.Residual</th>\n    </tr>\n  </thead>\n  <tbody>\n    <tr>\n      <th>0</th>\n      <td>Norway</td>\n      <td>1</td>\n      <td>7.537</td>\n      <td>7.594445</td>\n      <td>7.479556</td>\n      <td>1.616463</td>\n      <td>1.533524</td>\n      <td>0.796667</td>\n      <td>0.635423</td>\n      <td>0.362012</td>\n      <td>0.315964</td>\n      <td>2.277027</td>\n    </tr>\n    <tr>\n      <th>1</th>\n      <td>Denmark</td>\n      <td>2</td>\n      <td>7.522</td>\n      <td>7.581728</td>\n      <td>7.462272</td>\n      <td>1.482383</td>\n      <td>1.551122</td>\n      <td>0.792566</td>\n      <td>0.626007</td>\n      <td>0.355280</td>\n      <td>0.400770</td>\n      <td>2.313707</td>\n    </tr>\n    <tr>\n      <th>2</th>\n      <td>Iceland</td>\n      <td>3</td>\n      <td>7.504</td>\n      <td>7.622030</td>\n      <td>7.385970</td>\n      <td>1.480633</td>\n      <td>1.610574</td>\n      <td>0.833552</td>\n      <td>0.627163</td>\n      <td>0.475540</td>\n      <td>0.153527</td>\n      <td>2.322715</td>\n    </tr>\n    <tr>\n      <th>3</th>\n      <td>Switzerland</td>\n      <td>4</td>\n      <td>7.494</td>\n      <td>7.561772</td>\n      <td>7.426227</td>\n      <td>1.564980</td>\n      <td>1.516912</td>\n      <td>0.858131</td>\n      <td>0.620071</td>\n      <td>0.290549</td>\n      <td>0.367007</td>\n      <td>2.276716</td>\n    </tr>\n    <tr>\n      <th>4</th>\n      <td>Finland</td>\n      <td>5</td>\n      <td>7.469</td>\n      <td>7.527542</td>\n      <td>7.410458</td>\n      <td>1.443572</td>\n      <td>1.540247</td>\n      <td>0.809158</td>\n      <td>0.617951</td>\n      <td>0.245483</td>\n      <td>0.382612</td>\n      <td>2.430182</td>\n    </tr>\n    <tr>\n      <th>5</th>\n      <td>Netherlands</td>\n      <td>6</td>\n      <td>7.377</td>\n      <td>7.427426</td>\n      <td>7.326574</td>\n      <td>1.503945</td>\n      <td>1.428939</td>\n      <td>0.810696</td>\n      <td>0.585384</td>\n      <td>0.470490</td>\n      <td>0.282662</td>\n      <td>2.294804</td>\n    </tr>\n    <tr>\n      <th>6</th>\n      <td>Canada</td>\n      <td>7</td>\n      <td>7.316</td>\n      <td>7.384403</td>\n      <td>7.247597</td>\n      <td>1.479204</td>\n      <td>1.481349</td>\n      <td>0.834558</td>\n      <td>0.611101</td>\n      <td>0.435540</td>\n      <td>0.287372</td>\n      <td>2.187264</td>\n    </tr>\n    <tr>\n      <th>7</th>\n      <td>New Zealand</td>\n      <td>8</td>\n      <td>7.314</td>\n      <td>7.379510</td>\n      <td>7.248490</td>\n      <td>1.405706</td>\n      <td>1.548195</td>\n      <td>0.816760</td>\n      <td>0.614062</td>\n      <td>0.500005</td>\n      <td>0.382817</td>\n      <td>2.046456</td>\n    </tr>\n    <tr>\n      <th>8</th>\n      <td>Sweden</td>\n      <td>9</td>\n      <td>7.284</td>\n      <td>7.344095</td>\n      <td>7.223905</td>\n      <td>1.494387</td>\n      <td>1.478162</td>\n      <td>0.830875</td>\n      <td>0.612924</td>\n      <td>0.385399</td>\n      <td>0.384399</td>\n      <td>2.097538</td>\n    </tr>\n    <tr>\n      <th>9</th>\n      <td>Australia</td>\n      <td>10</td>\n      <td>7.284</td>\n      <td>7.356651</td>\n      <td>7.211349</td>\n      <td>1.484415</td>\n      <td>1.510042</td>\n      <td>0.843887</td>\n      <td>0.601607</td>\n      <td>0.477699</td>\n      <td>0.301184</td>\n      <td>2.065211</td>\n    </tr>\n  </tbody>\n</table>\n</div>"
     },
     "metadata": {},
     "execution_count": 2
    }
   ],
   "source": [
    "# Extract WHO Happiness CSV into DF\n",
    "happy_file = \"Resources/world_happiness_index_2017.csv\"\n",
    "happy_df = pd.read_csv(happy_file)\n",
    "happy_df.head(10)"
   ]
  },
  {
   "cell_type": "code",
   "execution_count": 3,
   "metadata": {},
   "outputs": [
    {
     "output_type": "execute_result",
     "data": {
      "text/plain": [
       "       Country  Happinesss_Rank  Happiness_Score  Whisker_(High)  \\\n",
       "0       Norway                1            7.537        7.594445   \n",
       "1      Denmark                2            7.522        7.581728   \n",
       "2      Iceland                3            7.504        7.622030   \n",
       "3  Switzerland                4            7.494        7.561772   \n",
       "4      Finland                5            7.469        7.527542   \n",
       "\n",
       "   Whisker_(Low)  Economy_(GDP_per_Cap)    Family  Health_(Life_Expectancy)  \\\n",
       "0       7.479556               1.616463  1.533524                  0.796667   \n",
       "1       7.462272               1.482383  1.551122                  0.792566   \n",
       "2       7.385970               1.480633  1.610574                  0.833552   \n",
       "3       7.426227               1.564980  1.516912                  0.858131   \n",
       "4       7.410458               1.443572  1.540247                  0.809158   \n",
       "\n",
       "    Freedom  Generosity  Trust_(Gov_Corruption)  Dystopia_(Residual)  \n",
       "0  0.635423    0.362012                0.315964             2.277027  \n",
       "1  0.626007    0.355280                0.400770             2.313707  \n",
       "2  0.627163    0.475540                0.153527             2.322715  \n",
       "3  0.620071    0.290549                0.367007             2.276716  \n",
       "4  0.617951    0.245483                0.382612             2.430182  "
      ],
      "text/html": "<div>\n<style scoped>\n    .dataframe tbody tr th:only-of-type {\n        vertical-align: middle;\n    }\n\n    .dataframe tbody tr th {\n        vertical-align: top;\n    }\n\n    .dataframe thead th {\n        text-align: right;\n    }\n</style>\n<table border=\"1\" class=\"dataframe\">\n  <thead>\n    <tr style=\"text-align: right;\">\n      <th></th>\n      <th>Country</th>\n      <th>Happinesss_Rank</th>\n      <th>Happiness_Score</th>\n      <th>Whisker_(High)</th>\n      <th>Whisker_(Low)</th>\n      <th>Economy_(GDP_per_Cap)</th>\n      <th>Family</th>\n      <th>Health_(Life_Expectancy)</th>\n      <th>Freedom</th>\n      <th>Generosity</th>\n      <th>Trust_(Gov_Corruption)</th>\n      <th>Dystopia_(Residual)</th>\n    </tr>\n  </thead>\n  <tbody>\n    <tr>\n      <th>0</th>\n      <td>Norway</td>\n      <td>1</td>\n      <td>7.537</td>\n      <td>7.594445</td>\n      <td>7.479556</td>\n      <td>1.616463</td>\n      <td>1.533524</td>\n      <td>0.796667</td>\n      <td>0.635423</td>\n      <td>0.362012</td>\n      <td>0.315964</td>\n      <td>2.277027</td>\n    </tr>\n    <tr>\n      <th>1</th>\n      <td>Denmark</td>\n      <td>2</td>\n      <td>7.522</td>\n      <td>7.581728</td>\n      <td>7.462272</td>\n      <td>1.482383</td>\n      <td>1.551122</td>\n      <td>0.792566</td>\n      <td>0.626007</td>\n      <td>0.355280</td>\n      <td>0.400770</td>\n      <td>2.313707</td>\n    </tr>\n    <tr>\n      <th>2</th>\n      <td>Iceland</td>\n      <td>3</td>\n      <td>7.504</td>\n      <td>7.622030</td>\n      <td>7.385970</td>\n      <td>1.480633</td>\n      <td>1.610574</td>\n      <td>0.833552</td>\n      <td>0.627163</td>\n      <td>0.475540</td>\n      <td>0.153527</td>\n      <td>2.322715</td>\n    </tr>\n    <tr>\n      <th>3</th>\n      <td>Switzerland</td>\n      <td>4</td>\n      <td>7.494</td>\n      <td>7.561772</td>\n      <td>7.426227</td>\n      <td>1.564980</td>\n      <td>1.516912</td>\n      <td>0.858131</td>\n      <td>0.620071</td>\n      <td>0.290549</td>\n      <td>0.367007</td>\n      <td>2.276716</td>\n    </tr>\n    <tr>\n      <th>4</th>\n      <td>Finland</td>\n      <td>5</td>\n      <td>7.469</td>\n      <td>7.527542</td>\n      <td>7.410458</td>\n      <td>1.443572</td>\n      <td>1.540247</td>\n      <td>0.809158</td>\n      <td>0.617951</td>\n      <td>0.245483</td>\n      <td>0.382612</td>\n      <td>2.430182</td>\n    </tr>\n  </tbody>\n</table>\n</div>"
     },
     "metadata": {},
     "execution_count": 3
    }
   ],
   "source": [
    "# Rename column headers\n",
    "happy_df_rename = happy_df.rename(columns={'Happiness.Rank': 'Happinesss_Rank', 'Happiness.Score': 'Happiness_Score','Whisker.high': 'Whisker_(High)', 'Whisker.low': 'Whisker_(Low)', 'Economy..GDP.per.Capita.': 'Economy_(GDP_per_Cap)', 'Health..Life.Expectancy.': 'Health_(Life_Expectancy)', 'Trust..Government.Corruption.': 'Trust_(Gov_Corruption)', 'Dystopia.Residual': 'Dystopia_(Residual)'})\n",
    "happy_df_rename.head()"
   ]
  },
  {
   "cell_type": "code",
   "execution_count": 4,
   "metadata": {},
   "outputs": [
    {
     "output_type": "execute_result",
     "data": {
      "text/plain": [
       "                      Country  Happinesss_Rank  Happiness_Score\n",
       "0                      Norway                1            7.537\n",
       "1                     Denmark                2            7.522\n",
       "2                     Iceland                3            7.504\n",
       "3                 Switzerland                4            7.494\n",
       "4                     Finland                5            7.469\n",
       "..                        ...              ...              ...\n",
       "150                    Rwanda              151            3.471\n",
       "151                     Syria              152            3.462\n",
       "152                  Tanzania              153            3.349\n",
       "153                   Burundi              154            2.905\n",
       "154  Central African Republic              155            2.693\n",
       "\n",
       "[155 rows x 3 columns]"
      ],
      "text/html": "<div>\n<style scoped>\n    .dataframe tbody tr th:only-of-type {\n        vertical-align: middle;\n    }\n\n    .dataframe tbody tr th {\n        vertical-align: top;\n    }\n\n    .dataframe thead th {\n        text-align: right;\n    }\n</style>\n<table border=\"1\" class=\"dataframe\">\n  <thead>\n    <tr style=\"text-align: right;\">\n      <th></th>\n      <th>Country</th>\n      <th>Happinesss_Rank</th>\n      <th>Happiness_Score</th>\n    </tr>\n  </thead>\n  <tbody>\n    <tr>\n      <th>0</th>\n      <td>Norway</td>\n      <td>1</td>\n      <td>7.537</td>\n    </tr>\n    <tr>\n      <th>1</th>\n      <td>Denmark</td>\n      <td>2</td>\n      <td>7.522</td>\n    </tr>\n    <tr>\n      <th>2</th>\n      <td>Iceland</td>\n      <td>3</td>\n      <td>7.504</td>\n    </tr>\n    <tr>\n      <th>3</th>\n      <td>Switzerland</td>\n      <td>4</td>\n      <td>7.494</td>\n    </tr>\n    <tr>\n      <th>4</th>\n      <td>Finland</td>\n      <td>5</td>\n      <td>7.469</td>\n    </tr>\n    <tr>\n      <th>...</th>\n      <td>...</td>\n      <td>...</td>\n      <td>...</td>\n    </tr>\n    <tr>\n      <th>150</th>\n      <td>Rwanda</td>\n      <td>151</td>\n      <td>3.471</td>\n    </tr>\n    <tr>\n      <th>151</th>\n      <td>Syria</td>\n      <td>152</td>\n      <td>3.462</td>\n    </tr>\n    <tr>\n      <th>152</th>\n      <td>Tanzania</td>\n      <td>153</td>\n      <td>3.349</td>\n    </tr>\n    <tr>\n      <th>153</th>\n      <td>Burundi</td>\n      <td>154</td>\n      <td>2.905</td>\n    </tr>\n    <tr>\n      <th>154</th>\n      <td>Central African Republic</td>\n      <td>155</td>\n      <td>2.693</td>\n    </tr>\n  </tbody>\n</table>\n<p>155 rows × 3 columns</p>\n</div>"
     },
     "metadata": {},
     "execution_count": 4
    }
   ],
   "source": [
    "happy = happy_df_rename[[\"Country\",\"Happinesss_Rank\",\"Happiness_Score\"]]\n",
    "happy"
   ]
  },
  {
   "cell_type": "code",
   "execution_count": 5,
   "metadata": {},
   "outputs": [
    {
     "output_type": "execute_result",
     "data": {
      "text/plain": [
       "      Location  Period                                          Indicator  \\\n",
       "0  Afghanistan    2018  Total (recorded+unrecorded) alcohol per capita...   \n",
       "1  Afghanistan    2018  Total (recorded+unrecorded) alcohol per capita...   \n",
       "2  Afghanistan    2018  Total (recorded+unrecorded) alcohol per capita...   \n",
       "3  Afghanistan    2015  Total (recorded+unrecorded) alcohol per capita...   \n",
       "4  Afghanistan    2015  Total (recorded+unrecorded) alcohol per capita...   \n",
       "5  Afghanistan    2015  Total (recorded+unrecorded) alcohol per capita...   \n",
       "6  Afghanistan    2010  Total (recorded+unrecorded) alcohol per capita...   \n",
       "7  Afghanistan    2010  Total (recorded+unrecorded) alcohol per capita...   \n",
       "8  Afghanistan    2010  Total (recorded+unrecorded) alcohol per capita...   \n",
       "9      Albania    2018  Total (recorded+unrecorded) alcohol per capita...   \n",
       "\n",
       "         Dim1  First Tooltip  \n",
       "0  Both sexes          0.210  \n",
       "1        Male          0.360  \n",
       "2      Female          0.055  \n",
       "3  Both sexes          0.210  \n",
       "4        Male          0.350  \n",
       "5      Female          0.054  \n",
       "6  Both sexes          0.210  \n",
       "7        Male          0.360  \n",
       "8      Female          0.054  \n",
       "9  Both sexes          7.170  "
      ],
      "text/html": "<div>\n<style scoped>\n    .dataframe tbody tr th:only-of-type {\n        vertical-align: middle;\n    }\n\n    .dataframe tbody tr th {\n        vertical-align: top;\n    }\n\n    .dataframe thead th {\n        text-align: right;\n    }\n</style>\n<table border=\"1\" class=\"dataframe\">\n  <thead>\n    <tr style=\"text-align: right;\">\n      <th></th>\n      <th>Location</th>\n      <th>Period</th>\n      <th>Indicator</th>\n      <th>Dim1</th>\n      <th>First Tooltip</th>\n    </tr>\n  </thead>\n  <tbody>\n    <tr>\n      <th>0</th>\n      <td>Afghanistan</td>\n      <td>2018</td>\n      <td>Total (recorded+unrecorded) alcohol per capita...</td>\n      <td>Both sexes</td>\n      <td>0.210</td>\n    </tr>\n    <tr>\n      <th>1</th>\n      <td>Afghanistan</td>\n      <td>2018</td>\n      <td>Total (recorded+unrecorded) alcohol per capita...</td>\n      <td>Male</td>\n      <td>0.360</td>\n    </tr>\n    <tr>\n      <th>2</th>\n      <td>Afghanistan</td>\n      <td>2018</td>\n      <td>Total (recorded+unrecorded) alcohol per capita...</td>\n      <td>Female</td>\n      <td>0.055</td>\n    </tr>\n    <tr>\n      <th>3</th>\n      <td>Afghanistan</td>\n      <td>2015</td>\n      <td>Total (recorded+unrecorded) alcohol per capita...</td>\n      <td>Both sexes</td>\n      <td>0.210</td>\n    </tr>\n    <tr>\n      <th>4</th>\n      <td>Afghanistan</td>\n      <td>2015</td>\n      <td>Total (recorded+unrecorded) alcohol per capita...</td>\n      <td>Male</td>\n      <td>0.350</td>\n    </tr>\n    <tr>\n      <th>5</th>\n      <td>Afghanistan</td>\n      <td>2015</td>\n      <td>Total (recorded+unrecorded) alcohol per capita...</td>\n      <td>Female</td>\n      <td>0.054</td>\n    </tr>\n    <tr>\n      <th>6</th>\n      <td>Afghanistan</td>\n      <td>2010</td>\n      <td>Total (recorded+unrecorded) alcohol per capita...</td>\n      <td>Both sexes</td>\n      <td>0.210</td>\n    </tr>\n    <tr>\n      <th>7</th>\n      <td>Afghanistan</td>\n      <td>2010</td>\n      <td>Total (recorded+unrecorded) alcohol per capita...</td>\n      <td>Male</td>\n      <td>0.360</td>\n    </tr>\n    <tr>\n      <th>8</th>\n      <td>Afghanistan</td>\n      <td>2010</td>\n      <td>Total (recorded+unrecorded) alcohol per capita...</td>\n      <td>Female</td>\n      <td>0.054</td>\n    </tr>\n    <tr>\n      <th>9</th>\n      <td>Albania</td>\n      <td>2018</td>\n      <td>Total (recorded+unrecorded) alcohol per capita...</td>\n      <td>Both sexes</td>\n      <td>7.170</td>\n    </tr>\n  </tbody>\n</table>\n</div>"
     },
     "metadata": {},
     "execution_count": 5
    }
   ],
   "source": [
    "# Extract alchohol abuse CSV into DF\n",
    "alcohol_file = \"Resources/alcoholSubstanceAbuse.csv\"\n",
    "alcohol_df = pd.read_csv(alcohol_file)\n",
    "alcohol_df.head(10)"
   ]
  },
  {
   "cell_type": "code",
   "execution_count": 6,
   "metadata": {},
   "outputs": [
    {
     "output_type": "execute_result",
     "data": {
      "text/plain": [
       "       Country  Period                                          Indicator  \\\n",
       "0  Afghanistan    2018  Total (recorded+unrecorded) alcohol per capita...   \n",
       "1  Afghanistan    2018  Total (recorded+unrecorded) alcohol per capita...   \n",
       "2  Afghanistan    2018  Total (recorded+unrecorded) alcohol per capita...   \n",
       "3  Afghanistan    2015  Total (recorded+unrecorded) alcohol per capita...   \n",
       "4  Afghanistan    2015  Total (recorded+unrecorded) alcohol per capita...   \n",
       "\n",
       "       Gender  Consumption_Rate_(Drinks_per_Mo)  \n",
       "0  Both sexes                             0.210  \n",
       "1        Male                             0.360  \n",
       "2      Female                             0.055  \n",
       "3  Both sexes                             0.210  \n",
       "4        Male                             0.350  "
      ],
      "text/html": "<div>\n<style scoped>\n    .dataframe tbody tr th:only-of-type {\n        vertical-align: middle;\n    }\n\n    .dataframe tbody tr th {\n        vertical-align: top;\n    }\n\n    .dataframe thead th {\n        text-align: right;\n    }\n</style>\n<table border=\"1\" class=\"dataframe\">\n  <thead>\n    <tr style=\"text-align: right;\">\n      <th></th>\n      <th>Country</th>\n      <th>Period</th>\n      <th>Indicator</th>\n      <th>Gender</th>\n      <th>Consumption_Rate_(Drinks_per_Mo)</th>\n    </tr>\n  </thead>\n  <tbody>\n    <tr>\n      <th>0</th>\n      <td>Afghanistan</td>\n      <td>2018</td>\n      <td>Total (recorded+unrecorded) alcohol per capita...</td>\n      <td>Both sexes</td>\n      <td>0.210</td>\n    </tr>\n    <tr>\n      <th>1</th>\n      <td>Afghanistan</td>\n      <td>2018</td>\n      <td>Total (recorded+unrecorded) alcohol per capita...</td>\n      <td>Male</td>\n      <td>0.360</td>\n    </tr>\n    <tr>\n      <th>2</th>\n      <td>Afghanistan</td>\n      <td>2018</td>\n      <td>Total (recorded+unrecorded) alcohol per capita...</td>\n      <td>Female</td>\n      <td>0.055</td>\n    </tr>\n    <tr>\n      <th>3</th>\n      <td>Afghanistan</td>\n      <td>2015</td>\n      <td>Total (recorded+unrecorded) alcohol per capita...</td>\n      <td>Both sexes</td>\n      <td>0.210</td>\n    </tr>\n    <tr>\n      <th>4</th>\n      <td>Afghanistan</td>\n      <td>2015</td>\n      <td>Total (recorded+unrecorded) alcohol per capita...</td>\n      <td>Male</td>\n      <td>0.350</td>\n    </tr>\n  </tbody>\n</table>\n</div>"
     },
     "metadata": {},
     "execution_count": 6
    }
   ],
   "source": [
    "# Rename column headers\n",
    "alcohol_df_rename = alcohol_df.rename(columns={'Location': 'Country','Dim1': 'Gender', 'First Tooltip': 'Consumption_Rate_(Drinks_per_Mo)'})\n",
    "alcohol_df_rename.head()"
   ]
  },
  {
   "cell_type": "code",
   "execution_count": 7,
   "metadata": {},
   "outputs": [
    {
     "output_type": "execute_result",
     "data": {
      "text/plain": [
       "Country\n",
       "Afghanistan                            0.207000\n",
       "Albania                                7.166667\n",
       "Algeria                                0.782000\n",
       "Andorra                               11.894000\n",
       "Angola                                 6.218000\n",
       "                                        ...    \n",
       "Venezuela (Bolivarian Republic of)     7.668667\n",
       "Viet Nam                               5.309333\n",
       "Yemen                                  0.282267\n",
       "Zambia                                 5.408000\n",
       "Zimbabwe                               3.825333\n",
       "Name: Consumption_Rate_(Drinks_per_Mo), Length: 188, dtype: float64"
      ]
     },
     "metadata": {},
     "execution_count": 7
    }
   ],
   "source": [
    "etoh_by_year = alcohol_df_rename.groupby(['Country']).mean()[\"Consumption_Rate_(Drinks_per_Mo)\"]\n",
    "etoh_by_year"
   ]
  },
  {
   "cell_type": "code",
   "execution_count": 8,
   "metadata": {},
   "outputs": [
    {
     "output_type": "execute_result",
     "data": {
      "text/plain": [
       "                      Country  Happinesss_Rank  Happiness_Score  \\\n",
       "0                      Norway                1            7.537   \n",
       "1                     Denmark                2            7.522   \n",
       "2                     Iceland                3            7.504   \n",
       "3                 Switzerland                4            7.494   \n",
       "4                     Finland                5            7.469   \n",
       "..                        ...              ...              ...   \n",
       "150                    Rwanda              151            3.471   \n",
       "151                     Syria              152            3.462   \n",
       "152                  Tanzania              153            3.349   \n",
       "153                   Burundi              154            2.905   \n",
       "154  Central African Republic              155            2.693   \n",
       "\n",
       "     Consumption_Rate_(Drinks_per_Mo)  \n",
       "0                            8.156667  \n",
       "1                           11.375333  \n",
       "2                            8.026667  \n",
       "3                           11.830667  \n",
       "4                           11.986000  \n",
       "..                                ...  \n",
       "150                         11.194000  \n",
       "151                               NaN  \n",
       "152                               NaN  \n",
       "153                          8.126000  \n",
       "154                          3.245333  \n",
       "\n",
       "[155 rows x 4 columns]"
      ],
      "text/html": "<div>\n<style scoped>\n    .dataframe tbody tr th:only-of-type {\n        vertical-align: middle;\n    }\n\n    .dataframe tbody tr th {\n        vertical-align: top;\n    }\n\n    .dataframe thead th {\n        text-align: right;\n    }\n</style>\n<table border=\"1\" class=\"dataframe\">\n  <thead>\n    <tr style=\"text-align: right;\">\n      <th></th>\n      <th>Country</th>\n      <th>Happinesss_Rank</th>\n      <th>Happiness_Score</th>\n      <th>Consumption_Rate_(Drinks_per_Mo)</th>\n    </tr>\n  </thead>\n  <tbody>\n    <tr>\n      <th>0</th>\n      <td>Norway</td>\n      <td>1</td>\n      <td>7.537</td>\n      <td>8.156667</td>\n    </tr>\n    <tr>\n      <th>1</th>\n      <td>Denmark</td>\n      <td>2</td>\n      <td>7.522</td>\n      <td>11.375333</td>\n    </tr>\n    <tr>\n      <th>2</th>\n      <td>Iceland</td>\n      <td>3</td>\n      <td>7.504</td>\n      <td>8.026667</td>\n    </tr>\n    <tr>\n      <th>3</th>\n      <td>Switzerland</td>\n      <td>4</td>\n      <td>7.494</td>\n      <td>11.830667</td>\n    </tr>\n    <tr>\n      <th>4</th>\n      <td>Finland</td>\n      <td>5</td>\n      <td>7.469</td>\n      <td>11.986000</td>\n    </tr>\n    <tr>\n      <th>...</th>\n      <td>...</td>\n      <td>...</td>\n      <td>...</td>\n      <td>...</td>\n    </tr>\n    <tr>\n      <th>150</th>\n      <td>Rwanda</td>\n      <td>151</td>\n      <td>3.471</td>\n      <td>11.194000</td>\n    </tr>\n    <tr>\n      <th>151</th>\n      <td>Syria</td>\n      <td>152</td>\n      <td>3.462</td>\n      <td>NaN</td>\n    </tr>\n    <tr>\n      <th>152</th>\n      <td>Tanzania</td>\n      <td>153</td>\n      <td>3.349</td>\n      <td>NaN</td>\n    </tr>\n    <tr>\n      <th>153</th>\n      <td>Burundi</td>\n      <td>154</td>\n      <td>2.905</td>\n      <td>8.126000</td>\n    </tr>\n    <tr>\n      <th>154</th>\n      <td>Central African Republic</td>\n      <td>155</td>\n      <td>2.693</td>\n      <td>3.245333</td>\n    </tr>\n  </tbody>\n</table>\n<p>155 rows × 4 columns</p>\n</div>"
     },
     "metadata": {},
     "execution_count": 8
    }
   ],
   "source": [
    "happy_etoh = pd.merge(happy, etoh_by_year,on = \"Country\",how = 'left')\n",
    "happy_etoh"
   ]
  },
  {
   "cell_type": "code",
   "execution_count": 9,
   "metadata": {},
   "outputs": [
    {
     "output_type": "execute_result",
     "data": {
      "text/plain": [
       "           Country  Defined daily dosage per 1 000 inhabitants per day  Year  \\\n",
       "0          Iceland                                              141.4   2017   \n",
       "1        Australia                                              106.7   2016   \n",
       "2         Portugal                                              103.6   2017   \n",
       "3   United Kingdom                                              100.1   2016   \n",
       "4           Canada                                               99.6   2017   \n",
       "5           Sweden                                               96.8   2017   \n",
       "6          Belgium                                               79.0   2016   \n",
       "7          Denmark                                               77.0   2015   \n",
       "8            Spain                                               75.5   2016   \n",
       "9      New Zealand                                               72.8   2014   \n",
       "10         Finland                                               67.6   2016   \n",
       "11         Austria                                               60.5   2016   \n",
       "12        Slovenia                                               58.6   2016   \n",
       "13          Norway                                               57.1   2017   \n",
       "14  Czech Republic                                               57.1   2016   \n",
       "15         Germany                                               56.5   2016   \n",
       "16      Luxembourg                                               52.7   2017   \n",
       "17          France                                               49.8   2009   \n",
       "18          Israel                                               49.2   2017   \n",
       "19          Greece                                               48.1   2015   \n",
       "\n",
       "            Data include drugs dispensed in hospitals  \\\n",
       "0                                                 NaN   \n",
       "1                                                 NaN   \n",
       "2                                                 NaN   \n",
       "3                                                 NaN   \n",
       "4                                                 NaN   \n",
       "5                                                 NaN   \n",
       "6                                                 NaN   \n",
       "7                                                 NaN   \n",
       "8                                                 NaN   \n",
       "9                                                 NaN   \n",
       "10    Data are based on wholesale of pharmaceuticals.   \n",
       "11  Drug consumption in hospitals and in hospital ...   \n",
       "12                                                NaN   \n",
       "13                                                NaN   \n",
       "14                                                NaN   \n",
       "15                                                NaN   \n",
       "16                                                NaN   \n",
       "17  Data include drug consumption both in hospital...   \n",
       "18                                                NaN   \n",
       "19                                                NaN   \n",
       "\n",
       "                    Data include non-reimbursed drugs  \\\n",
       "0                                                 NaN   \n",
       "1                                                 NaN   \n",
       "2   Data include both reimbursed and non-reimburse...   \n",
       "3                                                 NaN   \n",
       "4                                                 NaN   \n",
       "5                                                 NaN   \n",
       "6                                                 NaN   \n",
       "7                                                 NaN   \n",
       "8                                                 NaN   \n",
       "9                                                 NaN   \n",
       "10                                                NaN   \n",
       "11  See note Data cover only drugs reimbursed by t...   \n",
       "12  See note Data include all medicines with a med...   \n",
       "13                                                NaN   \n",
       "14                                                NaN   \n",
       "15  See note Data contain exclusively the drug con...   \n",
       "16                                                NaN   \n",
       "17                                                NaN   \n",
       "18                                                NaN   \n",
       "19                                                NaN   \n",
       "\n",
       "                               Data include OTC drugs  \\\n",
       "0                                                 NaN   \n",
       "1                                                 NaN   \n",
       "2      Yes, but only OTC products sold in pharmacies.   \n",
       "3                                                 NaN   \n",
       "4   See note Generally, claims for OTC drugs are n...   \n",
       "5   Data include OTC drugs both from pharmacies an...   \n",
       "6                                                 NaN   \n",
       "7                                                 NaN   \n",
       "8                                                 NaN   \n",
       "9                                                 NaN   \n",
       "10                                                NaN   \n",
       "11                                                NaN   \n",
       "12  See note Only OTC drugs with a medical prescri...   \n",
       "13                                                NaN   \n",
       "14                                                NaN   \n",
       "15                                                NaN   \n",
       "16                                                NaN   \n",
       "17                                                NaN   \n",
       "18                                                NaN   \n",
       "19                                                NaN   \n",
       "\n",
       "                         Notes  \n",
       "0                          NaN  \n",
       "1                          NaN  \n",
       "2                          NaN  \n",
       "3                          NaN  \n",
       "4           Provisional value.  \n",
       "5                          NaN  \n",
       "6                          NaN  \n",
       "7                          NaN  \n",
       "8                          NaN  \n",
       "9                          NaN  \n",
       "10                         NaN  \n",
       "11                         NaN  \n",
       "12                         NaN  \n",
       "13                         NaN  \n",
       "14                         NaN  \n",
       "15                         NaN  \n",
       "16                         NaN  \n",
       "17                         NaN  \n",
       "18                         NaN  \n",
       "19  Difference in methodology.  "
      ],
      "text/html": "<div>\n<style scoped>\n    .dataframe tbody tr th:only-of-type {\n        vertical-align: middle;\n    }\n\n    .dataframe tbody tr th {\n        vertical-align: top;\n    }\n\n    .dataframe thead th {\n        text-align: right;\n    }\n</style>\n<table border=\"1\" class=\"dataframe\">\n  <thead>\n    <tr style=\"text-align: right;\">\n      <th></th>\n      <th>Country</th>\n      <th>Defined daily dosage per 1 000 inhabitants per day</th>\n      <th>Year</th>\n      <th>Data include drugs dispensed in hospitals</th>\n      <th>Data include non-reimbursed drugs</th>\n      <th>Data include OTC drugs</th>\n      <th>Notes</th>\n    </tr>\n  </thead>\n  <tbody>\n    <tr>\n      <th>0</th>\n      <td>Iceland</td>\n      <td>141.4</td>\n      <td>2017</td>\n      <td>NaN</td>\n      <td>NaN</td>\n      <td>NaN</td>\n      <td>NaN</td>\n    </tr>\n    <tr>\n      <th>1</th>\n      <td>Australia</td>\n      <td>106.7</td>\n      <td>2016</td>\n      <td>NaN</td>\n      <td>NaN</td>\n      <td>NaN</td>\n      <td>NaN</td>\n    </tr>\n    <tr>\n      <th>2</th>\n      <td>Portugal</td>\n      <td>103.6</td>\n      <td>2017</td>\n      <td>NaN</td>\n      <td>Data include both reimbursed and non-reimburse...</td>\n      <td>Yes, but only OTC products sold in pharmacies.</td>\n      <td>NaN</td>\n    </tr>\n    <tr>\n      <th>3</th>\n      <td>United Kingdom</td>\n      <td>100.1</td>\n      <td>2016</td>\n      <td>NaN</td>\n      <td>NaN</td>\n      <td>NaN</td>\n      <td>NaN</td>\n    </tr>\n    <tr>\n      <th>4</th>\n      <td>Canada</td>\n      <td>99.6</td>\n      <td>2017</td>\n      <td>NaN</td>\n      <td>NaN</td>\n      <td>See note Generally, claims for OTC drugs are n...</td>\n      <td>Provisional value.</td>\n    </tr>\n    <tr>\n      <th>5</th>\n      <td>Sweden</td>\n      <td>96.8</td>\n      <td>2017</td>\n      <td>NaN</td>\n      <td>NaN</td>\n      <td>Data include OTC drugs both from pharmacies an...</td>\n      <td>NaN</td>\n    </tr>\n    <tr>\n      <th>6</th>\n      <td>Belgium</td>\n      <td>79.0</td>\n      <td>2016</td>\n      <td>NaN</td>\n      <td>NaN</td>\n      <td>NaN</td>\n      <td>NaN</td>\n    </tr>\n    <tr>\n      <th>7</th>\n      <td>Denmark</td>\n      <td>77.0</td>\n      <td>2015</td>\n      <td>NaN</td>\n      <td>NaN</td>\n      <td>NaN</td>\n      <td>NaN</td>\n    </tr>\n    <tr>\n      <th>8</th>\n      <td>Spain</td>\n      <td>75.5</td>\n      <td>2016</td>\n      <td>NaN</td>\n      <td>NaN</td>\n      <td>NaN</td>\n      <td>NaN</td>\n    </tr>\n    <tr>\n      <th>9</th>\n      <td>New Zealand</td>\n      <td>72.8</td>\n      <td>2014</td>\n      <td>NaN</td>\n      <td>NaN</td>\n      <td>NaN</td>\n      <td>NaN</td>\n    </tr>\n    <tr>\n      <th>10</th>\n      <td>Finland</td>\n      <td>67.6</td>\n      <td>2016</td>\n      <td>Data are based on wholesale of pharmaceuticals.</td>\n      <td>NaN</td>\n      <td>NaN</td>\n      <td>NaN</td>\n    </tr>\n    <tr>\n      <th>11</th>\n      <td>Austria</td>\n      <td>60.5</td>\n      <td>2016</td>\n      <td>Drug consumption in hospitals and in hospital ...</td>\n      <td>See note Data cover only drugs reimbursed by t...</td>\n      <td>NaN</td>\n      <td>NaN</td>\n    </tr>\n    <tr>\n      <th>12</th>\n      <td>Slovenia</td>\n      <td>58.6</td>\n      <td>2016</td>\n      <td>NaN</td>\n      <td>See note Data include all medicines with a med...</td>\n      <td>See note Only OTC drugs with a medical prescri...</td>\n      <td>NaN</td>\n    </tr>\n    <tr>\n      <th>13</th>\n      <td>Norway</td>\n      <td>57.1</td>\n      <td>2017</td>\n      <td>NaN</td>\n      <td>NaN</td>\n      <td>NaN</td>\n      <td>NaN</td>\n    </tr>\n    <tr>\n      <th>14</th>\n      <td>Czech Republic</td>\n      <td>57.1</td>\n      <td>2016</td>\n      <td>NaN</td>\n      <td>NaN</td>\n      <td>NaN</td>\n      <td>NaN</td>\n    </tr>\n    <tr>\n      <th>15</th>\n      <td>Germany</td>\n      <td>56.5</td>\n      <td>2016</td>\n      <td>NaN</td>\n      <td>See note Data contain exclusively the drug con...</td>\n      <td>NaN</td>\n      <td>NaN</td>\n    </tr>\n    <tr>\n      <th>16</th>\n      <td>Luxembourg</td>\n      <td>52.7</td>\n      <td>2017</td>\n      <td>NaN</td>\n      <td>NaN</td>\n      <td>NaN</td>\n      <td>NaN</td>\n    </tr>\n    <tr>\n      <th>17</th>\n      <td>France</td>\n      <td>49.8</td>\n      <td>2009</td>\n      <td>Data include drug consumption both in hospital...</td>\n      <td>NaN</td>\n      <td>NaN</td>\n      <td>NaN</td>\n    </tr>\n    <tr>\n      <th>18</th>\n      <td>Israel</td>\n      <td>49.2</td>\n      <td>2017</td>\n      <td>NaN</td>\n      <td>NaN</td>\n      <td>NaN</td>\n      <td>NaN</td>\n    </tr>\n    <tr>\n      <th>19</th>\n      <td>Greece</td>\n      <td>48.1</td>\n      <td>2015</td>\n      <td>NaN</td>\n      <td>NaN</td>\n      <td>NaN</td>\n      <td>Difference in methodology.</td>\n    </tr>\n  </tbody>\n</table>\n</div>"
     },
     "metadata": {},
     "execution_count": 9
    }
   ],
   "source": [
    "# Extract antidepressant CSV into DF\n",
    "depress_file = \"Resources/List_of_countries_by_antidepressant_consumption.csv\"\n",
    "depress_df = pd.read_csv(depress_file)\n",
    "depress_df.head(20)"
   ]
  },
  {
   "cell_type": "code",
   "execution_count": 10,
   "metadata": {},
   "outputs": [
    {
     "output_type": "execute_result",
     "data": {
      "text/plain": [
       "Country\n",
       "Australia    106.7\n",
       "Austria       60.5\n",
       "Belgium       79.0\n",
       "Canada        99.6\n",
       "Chile         41.4\n",
       "Name: Defined daily dosage per 1 000 inhabitants per day, dtype: float64"
      ]
     },
     "metadata": {},
     "execution_count": 10
    }
   ],
   "source": [
    "SSRI_df = depress_df.groupby('Country').mean()[\"Defined daily dosage per 1 000 inhabitants per day\"]\n",
    "SSRI_df.head()"
   ]
  },
  {
   "cell_type": "code",
   "execution_count": 11,
   "metadata": {},
   "outputs": [
    {
     "output_type": "execute_result",
     "data": {
      "text/plain": [
       "           Country  Defined daily dosage per 1 000 inhabitants per day  Year\n",
       "0          Iceland                                              141.4   2017\n",
       "1        Australia                                              106.7   2016\n",
       "2         Portugal                                              103.6   2017\n",
       "3   United Kingdom                                              100.1   2016\n",
       "4           Canada                                               99.6   2017\n",
       "5           Sweden                                               96.8   2017\n",
       "6          Belgium                                               79.0   2016\n",
       "7          Denmark                                               77.0   2015\n",
       "8            Spain                                               75.5   2016\n",
       "9      New Zealand                                               72.8   2014\n",
       "10         Finland                                               67.6   2016\n",
       "11         Austria                                               60.5   2016\n",
       "12        Slovenia                                               58.6   2016\n",
       "13          Norway                                               57.1   2017\n",
       "14  Czech Republic                                               57.1   2016\n",
       "15         Germany                                               56.5   2016\n",
       "16      Luxembourg                                               52.7   2017\n",
       "17          France                                               49.8   2009\n",
       "18          Israel                                               49.2   2017\n",
       "19          Greece                                               48.1   2015\n",
       "20     Netherlands                                               46.1   2016\n",
       "21           Chile                                               41.4   2017\n",
       "22          Turkey                                               41.0   2016\n",
       "23           Italy                                               40.3   2017\n",
       "24        Slovakia                                               38.9   2016\n",
       "25         Hungary                                               28.8   2017\n",
       "26         Estonia                                               28.8   2017\n",
       "27     South Korea                                               19.9   2016\n",
       "28          Latvia                                               13.3   2016"
      ],
      "text/html": "<div>\n<style scoped>\n    .dataframe tbody tr th:only-of-type {\n        vertical-align: middle;\n    }\n\n    .dataframe tbody tr th {\n        vertical-align: top;\n    }\n\n    .dataframe thead th {\n        text-align: right;\n    }\n</style>\n<table border=\"1\" class=\"dataframe\">\n  <thead>\n    <tr style=\"text-align: right;\">\n      <th></th>\n      <th>Country</th>\n      <th>Defined daily dosage per 1 000 inhabitants per day</th>\n      <th>Year</th>\n    </tr>\n  </thead>\n  <tbody>\n    <tr>\n      <th>0</th>\n      <td>Iceland</td>\n      <td>141.4</td>\n      <td>2017</td>\n    </tr>\n    <tr>\n      <th>1</th>\n      <td>Australia</td>\n      <td>106.7</td>\n      <td>2016</td>\n    </tr>\n    <tr>\n      <th>2</th>\n      <td>Portugal</td>\n      <td>103.6</td>\n      <td>2017</td>\n    </tr>\n    <tr>\n      <th>3</th>\n      <td>United Kingdom</td>\n      <td>100.1</td>\n      <td>2016</td>\n    </tr>\n    <tr>\n      <th>4</th>\n      <td>Canada</td>\n      <td>99.6</td>\n      <td>2017</td>\n    </tr>\n    <tr>\n      <th>5</th>\n      <td>Sweden</td>\n      <td>96.8</td>\n      <td>2017</td>\n    </tr>\n    <tr>\n      <th>6</th>\n      <td>Belgium</td>\n      <td>79.0</td>\n      <td>2016</td>\n    </tr>\n    <tr>\n      <th>7</th>\n      <td>Denmark</td>\n      <td>77.0</td>\n      <td>2015</td>\n    </tr>\n    <tr>\n      <th>8</th>\n      <td>Spain</td>\n      <td>75.5</td>\n      <td>2016</td>\n    </tr>\n    <tr>\n      <th>9</th>\n      <td>New Zealand</td>\n      <td>72.8</td>\n      <td>2014</td>\n    </tr>\n    <tr>\n      <th>10</th>\n      <td>Finland</td>\n      <td>67.6</td>\n      <td>2016</td>\n    </tr>\n    <tr>\n      <th>11</th>\n      <td>Austria</td>\n      <td>60.5</td>\n      <td>2016</td>\n    </tr>\n    <tr>\n      <th>12</th>\n      <td>Slovenia</td>\n      <td>58.6</td>\n      <td>2016</td>\n    </tr>\n    <tr>\n      <th>13</th>\n      <td>Norway</td>\n      <td>57.1</td>\n      <td>2017</td>\n    </tr>\n    <tr>\n      <th>14</th>\n      <td>Czech Republic</td>\n      <td>57.1</td>\n      <td>2016</td>\n    </tr>\n    <tr>\n      <th>15</th>\n      <td>Germany</td>\n      <td>56.5</td>\n      <td>2016</td>\n    </tr>\n    <tr>\n      <th>16</th>\n      <td>Luxembourg</td>\n      <td>52.7</td>\n      <td>2017</td>\n    </tr>\n    <tr>\n      <th>17</th>\n      <td>France</td>\n      <td>49.8</td>\n      <td>2009</td>\n    </tr>\n    <tr>\n      <th>18</th>\n      <td>Israel</td>\n      <td>49.2</td>\n      <td>2017</td>\n    </tr>\n    <tr>\n      <th>19</th>\n      <td>Greece</td>\n      <td>48.1</td>\n      <td>2015</td>\n    </tr>\n    <tr>\n      <th>20</th>\n      <td>Netherlands</td>\n      <td>46.1</td>\n      <td>2016</td>\n    </tr>\n    <tr>\n      <th>21</th>\n      <td>Chile</td>\n      <td>41.4</td>\n      <td>2017</td>\n    </tr>\n    <tr>\n      <th>22</th>\n      <td>Turkey</td>\n      <td>41.0</td>\n      <td>2016</td>\n    </tr>\n    <tr>\n      <th>23</th>\n      <td>Italy</td>\n      <td>40.3</td>\n      <td>2017</td>\n    </tr>\n    <tr>\n      <th>24</th>\n      <td>Slovakia</td>\n      <td>38.9</td>\n      <td>2016</td>\n    </tr>\n    <tr>\n      <th>25</th>\n      <td>Hungary</td>\n      <td>28.8</td>\n      <td>2017</td>\n    </tr>\n    <tr>\n      <th>26</th>\n      <td>Estonia</td>\n      <td>28.8</td>\n      <td>2017</td>\n    </tr>\n    <tr>\n      <th>27</th>\n      <td>South Korea</td>\n      <td>19.9</td>\n      <td>2016</td>\n    </tr>\n    <tr>\n      <th>28</th>\n      <td>Latvia</td>\n      <td>13.3</td>\n      <td>2016</td>\n    </tr>\n  </tbody>\n</table>\n</div>"
     },
     "metadata": {},
     "execution_count": 11
    }
   ],
   "source": [
    "# Drop right side columns in depress_df that are littered with NaNs, and group by year 2017\n",
    "cols = [\"Country\", \"Defined daily dosage per 1 000 inhabitants per day\", \"Year\"]\n",
    "depress_df_clean = depress_df[cols].copy()\n",
    "depress_df_gb_clean = depress_df_clean.groupby(\"Year\", as_index=False)\n",
    "depress_df_gb_clean.head(20)"
   ]
  },
  {
   "cell_type": "code",
   "execution_count": 98,
   "metadata": {
    "scrolled": true
   },
   "outputs": [
    {
     "output_type": "execute_result",
     "data": {
      "text/plain": [
       "          Country  doses_per_thousand  Year\n",
       "0         Iceland               141.4  2017\n",
       "1       Australia               106.7  2016\n",
       "2        Portugal               103.6  2017\n",
       "3  United Kingdom               100.1  2016\n",
       "4          Canada                99.6  2017\n",
       "5          Sweden                96.8  2017\n",
       "6         Belgium                79.0  2016\n",
       "7         Denmark                77.0  2015\n",
       "8           Spain                75.5  2016\n",
       "9     New Zealand                72.8  2014"
      ],
      "text/html": "<div>\n<style scoped>\n    .dataframe tbody tr th:only-of-type {\n        vertical-align: middle;\n    }\n\n    .dataframe tbody tr th {\n        vertical-align: top;\n    }\n\n    .dataframe thead th {\n        text-align: right;\n    }\n</style>\n<table border=\"1\" class=\"dataframe\">\n  <thead>\n    <tr style=\"text-align: right;\">\n      <th></th>\n      <th>Country</th>\n      <th>doses_per_thousand</th>\n      <th>Year</th>\n    </tr>\n  </thead>\n  <tbody>\n    <tr>\n      <th>0</th>\n      <td>Iceland</td>\n      <td>141.4</td>\n      <td>2017</td>\n    </tr>\n    <tr>\n      <th>1</th>\n      <td>Australia</td>\n      <td>106.7</td>\n      <td>2016</td>\n    </tr>\n    <tr>\n      <th>2</th>\n      <td>Portugal</td>\n      <td>103.6</td>\n      <td>2017</td>\n    </tr>\n    <tr>\n      <th>3</th>\n      <td>United Kingdom</td>\n      <td>100.1</td>\n      <td>2016</td>\n    </tr>\n    <tr>\n      <th>4</th>\n      <td>Canada</td>\n      <td>99.6</td>\n      <td>2017</td>\n    </tr>\n    <tr>\n      <th>5</th>\n      <td>Sweden</td>\n      <td>96.8</td>\n      <td>2017</td>\n    </tr>\n    <tr>\n      <th>6</th>\n      <td>Belgium</td>\n      <td>79.0</td>\n      <td>2016</td>\n    </tr>\n    <tr>\n      <th>7</th>\n      <td>Denmark</td>\n      <td>77.0</td>\n      <td>2015</td>\n    </tr>\n    <tr>\n      <th>8</th>\n      <td>Spain</td>\n      <td>75.5</td>\n      <td>2016</td>\n    </tr>\n    <tr>\n      <th>9</th>\n      <td>New Zealand</td>\n      <td>72.8</td>\n      <td>2014</td>\n    </tr>\n  </tbody>\n</table>\n</div>"
     },
     "metadata": {},
     "execution_count": 98
    }
   ],
   "source": [
    "depressrename = depress_df_clean.rename(columns = {\"Defined daily dosage per 1 000 inhabitants per day\": \"doses_per_thousand\"})\n",
    "depressrename.head(10)"
   ]
  },
  {
   "cell_type": "code",
   "execution_count": 130,
   "metadata": {},
   "outputs": [
    {
     "output_type": "execute_result",
     "data": {
      "text/plain": [
       "                doses_per_thousand  Year\n",
       "Country                                 \n",
       "Iceland                      141.4  2017\n",
       "Australia                    106.7  2016\n",
       "Portugal                     103.6  2017\n",
       "United Kingdom               100.1  2016\n",
       "Canada                        99.6  2017\n",
       "Sweden                        96.8  2017\n",
       "Belgium                       79.0  2016\n",
       "Denmark                       77.0  2015\n",
       "Spain                         75.5  2016\n",
       "New Zealand                   72.8  2014\n",
       "Finland                       67.6  2016\n",
       "Austria                       60.5  2016\n",
       "Slovenia                      58.6  2016\n",
       "Czech Republic                57.1  2016\n",
       "Norway                        57.1  2017\n",
       "Germany                       56.5  2016\n",
       "Luxembourg                    52.7  2017\n",
       "France                        49.8  2009\n",
       "Israel                        49.2  2017\n",
       "Greece                        48.1  2015\n",
       "Netherlands                   46.1  2016\n",
       "Chile                         41.4  2017\n",
       "Turkey                        41.0  2016\n",
       "Italy                         40.3  2017\n",
       "Slovakia                      38.9  2016\n",
       "Hungary                       28.8  2017\n",
       "Estonia                       28.8  2017\n",
       "South Korea                   19.9  2016\n",
       "Latvia                        13.3  2016"
      ],
      "text/html": "<div>\n<style scoped>\n    .dataframe tbody tr th:only-of-type {\n        vertical-align: middle;\n    }\n\n    .dataframe tbody tr th {\n        vertical-align: top;\n    }\n\n    .dataframe thead th {\n        text-align: right;\n    }\n</style>\n<table border=\"1\" class=\"dataframe\">\n  <thead>\n    <tr style=\"text-align: right;\">\n      <th></th>\n      <th>doses_per_thousand</th>\n      <th>Year</th>\n    </tr>\n    <tr>\n      <th>Country</th>\n      <th></th>\n      <th></th>\n    </tr>\n  </thead>\n  <tbody>\n    <tr>\n      <th>Iceland</th>\n      <td>141.4</td>\n      <td>2017</td>\n    </tr>\n    <tr>\n      <th>Australia</th>\n      <td>106.7</td>\n      <td>2016</td>\n    </tr>\n    <tr>\n      <th>Portugal</th>\n      <td>103.6</td>\n      <td>2017</td>\n    </tr>\n    <tr>\n      <th>United Kingdom</th>\n      <td>100.1</td>\n      <td>2016</td>\n    </tr>\n    <tr>\n      <th>Canada</th>\n      <td>99.6</td>\n      <td>2017</td>\n    </tr>\n    <tr>\n      <th>Sweden</th>\n      <td>96.8</td>\n      <td>2017</td>\n    </tr>\n    <tr>\n      <th>Belgium</th>\n      <td>79.0</td>\n      <td>2016</td>\n    </tr>\n    <tr>\n      <th>Denmark</th>\n      <td>77.0</td>\n      <td>2015</td>\n    </tr>\n    <tr>\n      <th>Spain</th>\n      <td>75.5</td>\n      <td>2016</td>\n    </tr>\n    <tr>\n      <th>New Zealand</th>\n      <td>72.8</td>\n      <td>2014</td>\n    </tr>\n    <tr>\n      <th>Finland</th>\n      <td>67.6</td>\n      <td>2016</td>\n    </tr>\n    <tr>\n      <th>Austria</th>\n      <td>60.5</td>\n      <td>2016</td>\n    </tr>\n    <tr>\n      <th>Slovenia</th>\n      <td>58.6</td>\n      <td>2016</td>\n    </tr>\n    <tr>\n      <th>Czech Republic</th>\n      <td>57.1</td>\n      <td>2016</td>\n    </tr>\n    <tr>\n      <th>Norway</th>\n      <td>57.1</td>\n      <td>2017</td>\n    </tr>\n    <tr>\n      <th>Germany</th>\n      <td>56.5</td>\n      <td>2016</td>\n    </tr>\n    <tr>\n      <th>Luxembourg</th>\n      <td>52.7</td>\n      <td>2017</td>\n    </tr>\n    <tr>\n      <th>France</th>\n      <td>49.8</td>\n      <td>2009</td>\n    </tr>\n    <tr>\n      <th>Israel</th>\n      <td>49.2</td>\n      <td>2017</td>\n    </tr>\n    <tr>\n      <th>Greece</th>\n      <td>48.1</td>\n      <td>2015</td>\n    </tr>\n    <tr>\n      <th>Netherlands</th>\n      <td>46.1</td>\n      <td>2016</td>\n    </tr>\n    <tr>\n      <th>Chile</th>\n      <td>41.4</td>\n      <td>2017</td>\n    </tr>\n    <tr>\n      <th>Turkey</th>\n      <td>41.0</td>\n      <td>2016</td>\n    </tr>\n    <tr>\n      <th>Italy</th>\n      <td>40.3</td>\n      <td>2017</td>\n    </tr>\n    <tr>\n      <th>Slovakia</th>\n      <td>38.9</td>\n      <td>2016</td>\n    </tr>\n    <tr>\n      <th>Hungary</th>\n      <td>28.8</td>\n      <td>2017</td>\n    </tr>\n    <tr>\n      <th>Estonia</th>\n      <td>28.8</td>\n      <td>2017</td>\n    </tr>\n    <tr>\n      <th>South Korea</th>\n      <td>19.9</td>\n      <td>2016</td>\n    </tr>\n    <tr>\n      <th>Latvia</th>\n      <td>13.3</td>\n      <td>2016</td>\n    </tr>\n  </tbody>\n</table>\n</div>"
     },
     "metadata": {},
     "execution_count": 130
    }
   ],
   "source": [
    "group_depress = depressrename.groupby(\"Country\").mean()\n",
    "group_depress.sort_values(\"doses_per_thousand\", ascending = False)"
   ]
  },
  {
   "cell_type": "code",
   "execution_count": 14,
   "metadata": {},
   "outputs": [
    {
     "output_type": "execute_result",
     "data": {
      "text/plain": [
       "                      Country  Happinesss_Rank  Happiness_Score  \\\n",
       "0                      Norway                1            7.537   \n",
       "1                     Denmark                2            7.522   \n",
       "2                     Iceland                3            7.504   \n",
       "3                 Switzerland                4            7.494   \n",
       "4                     Finland                5            7.469   \n",
       "..                        ...              ...              ...   \n",
       "150                    Rwanda              151            3.471   \n",
       "151                     Syria              152            3.462   \n",
       "152                  Tanzania              153            3.349   \n",
       "153                   Burundi              154            2.905   \n",
       "154  Central African Republic              155            2.693   \n",
       "\n",
       "     Consumption_Rate_(Drinks_per_Mo)  \\\n",
       "0                            8.156667   \n",
       "1                           11.375333   \n",
       "2                            8.026667   \n",
       "3                           11.830667   \n",
       "4                           11.986000   \n",
       "..                                ...   \n",
       "150                         11.194000   \n",
       "151                               NaN   \n",
       "152                               NaN   \n",
       "153                          8.126000   \n",
       "154                          3.245333   \n",
       "\n",
       "     Defined daily dosage per 1 000 inhabitants per day  \n",
       "0                                                 57.1   \n",
       "1                                                 77.0   \n",
       "2                                                141.4   \n",
       "3                                                  NaN   \n",
       "4                                                 67.6   \n",
       "..                                                 ...   \n",
       "150                                                NaN   \n",
       "151                                                NaN   \n",
       "152                                                NaN   \n",
       "153                                                NaN   \n",
       "154                                                NaN   \n",
       "\n",
       "[155 rows x 5 columns]"
      ],
      "text/html": "<div>\n<style scoped>\n    .dataframe tbody tr th:only-of-type {\n        vertical-align: middle;\n    }\n\n    .dataframe tbody tr th {\n        vertical-align: top;\n    }\n\n    .dataframe thead th {\n        text-align: right;\n    }\n</style>\n<table border=\"1\" class=\"dataframe\">\n  <thead>\n    <tr style=\"text-align: right;\">\n      <th></th>\n      <th>Country</th>\n      <th>Happinesss_Rank</th>\n      <th>Happiness_Score</th>\n      <th>Consumption_Rate_(Drinks_per_Mo)</th>\n      <th>Defined daily dosage per 1 000 inhabitants per day</th>\n    </tr>\n  </thead>\n  <tbody>\n    <tr>\n      <th>0</th>\n      <td>Norway</td>\n      <td>1</td>\n      <td>7.537</td>\n      <td>8.156667</td>\n      <td>57.1</td>\n    </tr>\n    <tr>\n      <th>1</th>\n      <td>Denmark</td>\n      <td>2</td>\n      <td>7.522</td>\n      <td>11.375333</td>\n      <td>77.0</td>\n    </tr>\n    <tr>\n      <th>2</th>\n      <td>Iceland</td>\n      <td>3</td>\n      <td>7.504</td>\n      <td>8.026667</td>\n      <td>141.4</td>\n    </tr>\n    <tr>\n      <th>3</th>\n      <td>Switzerland</td>\n      <td>4</td>\n      <td>7.494</td>\n      <td>11.830667</td>\n      <td>NaN</td>\n    </tr>\n    <tr>\n      <th>4</th>\n      <td>Finland</td>\n      <td>5</td>\n      <td>7.469</td>\n      <td>11.986000</td>\n      <td>67.6</td>\n    </tr>\n    <tr>\n      <th>...</th>\n      <td>...</td>\n      <td>...</td>\n      <td>...</td>\n      <td>...</td>\n      <td>...</td>\n    </tr>\n    <tr>\n      <th>150</th>\n      <td>Rwanda</td>\n      <td>151</td>\n      <td>3.471</td>\n      <td>11.194000</td>\n      <td>NaN</td>\n    </tr>\n    <tr>\n      <th>151</th>\n      <td>Syria</td>\n      <td>152</td>\n      <td>3.462</td>\n      <td>NaN</td>\n      <td>NaN</td>\n    </tr>\n    <tr>\n      <th>152</th>\n      <td>Tanzania</td>\n      <td>153</td>\n      <td>3.349</td>\n      <td>NaN</td>\n      <td>NaN</td>\n    </tr>\n    <tr>\n      <th>153</th>\n      <td>Burundi</td>\n      <td>154</td>\n      <td>2.905</td>\n      <td>8.126000</td>\n      <td>NaN</td>\n    </tr>\n    <tr>\n      <th>154</th>\n      <td>Central African Republic</td>\n      <td>155</td>\n      <td>2.693</td>\n      <td>3.245333</td>\n      <td>NaN</td>\n    </tr>\n  </tbody>\n</table>\n<p>155 rows × 5 columns</p>\n</div>"
     },
     "metadata": {},
     "execution_count": 14
    }
   ],
   "source": [
    "happy_etoh_SSRI_df = pd.merge(happy_etoh,SSRI_df, on=\"Country\", how = \"left\")\n",
    "happy_etoh_SSRI_df"
   ]
  },
  {
   "cell_type": "code",
   "execution_count": 15,
   "metadata": {},
   "outputs": [],
   "source": [
    "clean_happy_etoh_ssri = happy_etoh_SSRI_df.dropna()"
   ]
  },
  {
   "cell_type": "code",
   "execution_count": 16,
   "metadata": {},
   "outputs": [
    {
     "output_type": "execute_result",
     "data": {
      "text/plain": [
       "        Country  Happinesss_Rank  Happiness_Score  \\\n",
       "0        Norway                1            7.537   \n",
       "1       Denmark                2            7.522   \n",
       "2       Iceland                3            7.504   \n",
       "4       Finland                5            7.469   \n",
       "5   Netherlands                6            7.377   \n",
       "6        Canada                7            7.316   \n",
       "7   New Zealand                8            7.314   \n",
       "8        Sweden                9            7.284   \n",
       "9     Australia               10            7.284   \n",
       "10       Israel               11            7.213   \n",
       "12      Austria               13            7.006   \n",
       "15      Germany               16            6.951   \n",
       "16      Belgium               17            6.891   \n",
       "17   Luxembourg               18            6.863   \n",
       "19        Chile               20            6.652   \n",
       "30       France               31            6.442   \n",
       "33        Spain               34            6.403   \n",
       "39     Slovakia               40            6.098   \n",
       "47        Italy               48            5.964   \n",
       "53       Latvia               54            5.850   \n",
       "61     Slovenia               62            5.758   \n",
       "65      Estonia               66            5.611   \n",
       "68       Turkey               69            5.500   \n",
       "74      Hungary               75            5.324   \n",
       "86       Greece               87            5.227   \n",
       "88     Portugal               89            5.195   \n",
       "\n",
       "    Consumption_Rate_(Drinks_per_Mo)  \\\n",
       "0                           8.156667   \n",
       "1                          11.375333   \n",
       "2                           8.026667   \n",
       "4                          11.986000   \n",
       "5                          10.284000   \n",
       "6                           9.357778   \n",
       "7                          10.858000   \n",
       "8                           8.977333   \n",
       "9                          11.546000   \n",
       "10                          3.425333   \n",
       "12                         12.577333   \n",
       "15                         13.338667   \n",
       "16                         12.094667   \n",
       "17                         13.455333   \n",
       "19                          8.920000   \n",
       "30                         13.034667   \n",
       "33                         11.970667   \n",
       "39                         12.009333   \n",
       "47                          8.626667   \n",
       "53                         12.010667   \n",
       "61                         12.308667   \n",
       "65                         12.234000   \n",
       "68                          2.235333   \n",
       "74                         13.072667   \n",
       "86                         10.322667   \n",
       "88                         13.033333   \n",
       "\n",
       "    Defined daily dosage per 1 000 inhabitants per day  \n",
       "0                                                57.1   \n",
       "1                                                77.0   \n",
       "2                                               141.4   \n",
       "4                                                67.6   \n",
       "5                                                46.1   \n",
       "6                                                99.6   \n",
       "7                                                72.8   \n",
       "8                                                96.8   \n",
       "9                                               106.7   \n",
       "10                                               49.2   \n",
       "12                                               60.5   \n",
       "15                                               56.5   \n",
       "16                                               79.0   \n",
       "17                                               52.7   \n",
       "19                                               41.4   \n",
       "30                                               49.8   \n",
       "33                                               75.5   \n",
       "39                                               38.9   \n",
       "47                                               40.3   \n",
       "53                                               13.3   \n",
       "61                                               58.6   \n",
       "65                                               28.8   \n",
       "68                                               41.0   \n",
       "74                                               28.8   \n",
       "86                                               48.1   \n",
       "88                                              103.6   "
      ],
      "text/html": "<div>\n<style scoped>\n    .dataframe tbody tr th:only-of-type {\n        vertical-align: middle;\n    }\n\n    .dataframe tbody tr th {\n        vertical-align: top;\n    }\n\n    .dataframe thead th {\n        text-align: right;\n    }\n</style>\n<table border=\"1\" class=\"dataframe\">\n  <thead>\n    <tr style=\"text-align: right;\">\n      <th></th>\n      <th>Country</th>\n      <th>Happinesss_Rank</th>\n      <th>Happiness_Score</th>\n      <th>Consumption_Rate_(Drinks_per_Mo)</th>\n      <th>Defined daily dosage per 1 000 inhabitants per day</th>\n    </tr>\n  </thead>\n  <tbody>\n    <tr>\n      <th>0</th>\n      <td>Norway</td>\n      <td>1</td>\n      <td>7.537</td>\n      <td>8.156667</td>\n      <td>57.1</td>\n    </tr>\n    <tr>\n      <th>1</th>\n      <td>Denmark</td>\n      <td>2</td>\n      <td>7.522</td>\n      <td>11.375333</td>\n      <td>77.0</td>\n    </tr>\n    <tr>\n      <th>2</th>\n      <td>Iceland</td>\n      <td>3</td>\n      <td>7.504</td>\n      <td>8.026667</td>\n      <td>141.4</td>\n    </tr>\n    <tr>\n      <th>4</th>\n      <td>Finland</td>\n      <td>5</td>\n      <td>7.469</td>\n      <td>11.986000</td>\n      <td>67.6</td>\n    </tr>\n    <tr>\n      <th>5</th>\n      <td>Netherlands</td>\n      <td>6</td>\n      <td>7.377</td>\n      <td>10.284000</td>\n      <td>46.1</td>\n    </tr>\n    <tr>\n      <th>6</th>\n      <td>Canada</td>\n      <td>7</td>\n      <td>7.316</td>\n      <td>9.357778</td>\n      <td>99.6</td>\n    </tr>\n    <tr>\n      <th>7</th>\n      <td>New Zealand</td>\n      <td>8</td>\n      <td>7.314</td>\n      <td>10.858000</td>\n      <td>72.8</td>\n    </tr>\n    <tr>\n      <th>8</th>\n      <td>Sweden</td>\n      <td>9</td>\n      <td>7.284</td>\n      <td>8.977333</td>\n      <td>96.8</td>\n    </tr>\n    <tr>\n      <th>9</th>\n      <td>Australia</td>\n      <td>10</td>\n      <td>7.284</td>\n      <td>11.546000</td>\n      <td>106.7</td>\n    </tr>\n    <tr>\n      <th>10</th>\n      <td>Israel</td>\n      <td>11</td>\n      <td>7.213</td>\n      <td>3.425333</td>\n      <td>49.2</td>\n    </tr>\n    <tr>\n      <th>12</th>\n      <td>Austria</td>\n      <td>13</td>\n      <td>7.006</td>\n      <td>12.577333</td>\n      <td>60.5</td>\n    </tr>\n    <tr>\n      <th>15</th>\n      <td>Germany</td>\n      <td>16</td>\n      <td>6.951</td>\n      <td>13.338667</td>\n      <td>56.5</td>\n    </tr>\n    <tr>\n      <th>16</th>\n      <td>Belgium</td>\n      <td>17</td>\n      <td>6.891</td>\n      <td>12.094667</td>\n      <td>79.0</td>\n    </tr>\n    <tr>\n      <th>17</th>\n      <td>Luxembourg</td>\n      <td>18</td>\n      <td>6.863</td>\n      <td>13.455333</td>\n      <td>52.7</td>\n    </tr>\n    <tr>\n      <th>19</th>\n      <td>Chile</td>\n      <td>20</td>\n      <td>6.652</td>\n      <td>8.920000</td>\n      <td>41.4</td>\n    </tr>\n    <tr>\n      <th>30</th>\n      <td>France</td>\n      <td>31</td>\n      <td>6.442</td>\n      <td>13.034667</td>\n      <td>49.8</td>\n    </tr>\n    <tr>\n      <th>33</th>\n      <td>Spain</td>\n      <td>34</td>\n      <td>6.403</td>\n      <td>11.970667</td>\n      <td>75.5</td>\n    </tr>\n    <tr>\n      <th>39</th>\n      <td>Slovakia</td>\n      <td>40</td>\n      <td>6.098</td>\n      <td>12.009333</td>\n      <td>38.9</td>\n    </tr>\n    <tr>\n      <th>47</th>\n      <td>Italy</td>\n      <td>48</td>\n      <td>5.964</td>\n      <td>8.626667</td>\n      <td>40.3</td>\n    </tr>\n    <tr>\n      <th>53</th>\n      <td>Latvia</td>\n      <td>54</td>\n      <td>5.850</td>\n      <td>12.010667</td>\n      <td>13.3</td>\n    </tr>\n    <tr>\n      <th>61</th>\n      <td>Slovenia</td>\n      <td>62</td>\n      <td>5.758</td>\n      <td>12.308667</td>\n      <td>58.6</td>\n    </tr>\n    <tr>\n      <th>65</th>\n      <td>Estonia</td>\n      <td>66</td>\n      <td>5.611</td>\n      <td>12.234000</td>\n      <td>28.8</td>\n    </tr>\n    <tr>\n      <th>68</th>\n      <td>Turkey</td>\n      <td>69</td>\n      <td>5.500</td>\n      <td>2.235333</td>\n      <td>41.0</td>\n    </tr>\n    <tr>\n      <th>74</th>\n      <td>Hungary</td>\n      <td>75</td>\n      <td>5.324</td>\n      <td>13.072667</td>\n      <td>28.8</td>\n    </tr>\n    <tr>\n      <th>86</th>\n      <td>Greece</td>\n      <td>87</td>\n      <td>5.227</td>\n      <td>10.322667</td>\n      <td>48.1</td>\n    </tr>\n    <tr>\n      <th>88</th>\n      <td>Portugal</td>\n      <td>89</td>\n      <td>5.195</td>\n      <td>13.033333</td>\n      <td>103.6</td>\n    </tr>\n  </tbody>\n</table>\n</div>"
     },
     "metadata": {},
     "execution_count": 16
    }
   ],
   "source": [
    "clean_happy_etoh_ssri"
   ]
  },
  {
   "cell_type": "code",
   "execution_count": 94,
   "metadata": {},
   "outputs": [
    {
     "output_type": "execute_result",
     "data": {
      "text/plain": [
       "Text(0.5, 0, 'Happiness Score')"
      ]
     },
     "metadata": {},
     "execution_count": 94
    },
    {
     "output_type": "display_data",
     "data": {
      "text/plain": "<Figure size 432x288 with 1 Axes>",
      "image/svg+xml": "<?xml version=\"1.0\" encoding=\"utf-8\" standalone=\"no\"?>\r\n<!DOCTYPE svg PUBLIC \"-//W3C//DTD SVG 1.1//EN\"\r\n  \"http://www.w3.org/Graphics/SVG/1.1/DTD/svg11.dtd\">\r\n<!-- Created with matplotlib (https://matplotlib.org/) -->\r\n<svg height=\"262.19625pt\" version=\"1.1\" viewBox=\"0 0 435.592187 262.19625\" width=\"435.592187pt\" xmlns=\"http://www.w3.org/2000/svg\" xmlns:xlink=\"http://www.w3.org/1999/xlink\">\r\n <metadata>\r\n  <rdf:RDF xmlns:cc=\"http://creativecommons.org/ns#\" xmlns:dc=\"http://purl.org/dc/elements/1.1/\" xmlns:rdf=\"http://www.w3.org/1999/02/22-rdf-syntax-ns#\">\r\n   <cc:Work>\r\n    <dc:type rdf:resource=\"http://purl.org/dc/dcmitype/StillImage\"/>\r\n    <dc:date>2021-02-05T23:42:33.737057</dc:date>\r\n    <dc:format>image/svg+xml</dc:format>\r\n    <dc:creator>\r\n     <cc:Agent>\r\n      <dc:title>Matplotlib v3.3.2, https://matplotlib.org/</dc:title>\r\n     </cc:Agent>\r\n    </dc:creator>\r\n   </cc:Work>\r\n  </rdf:RDF>\r\n </metadata>\r\n <defs>\r\n  <style type=\"text/css\">*{stroke-linecap:butt;stroke-linejoin:round;}</style>\r\n </defs>\r\n <g id=\"figure_1\">\r\n  <g id=\"patch_1\">\r\n   <path d=\"M 0 262.19625 \r\nL 435.592187 262.19625 \r\nL 435.592187 0 \r\nL 0 0 \r\nz\r\n\" style=\"fill:none;\"/>\r\n  </g>\r\n  <g id=\"axes_1\">\r\n   <g id=\"patch_2\">\r\n    <path d=\"M 93.592187 224.64 \r\nL 428.392187 224.64 \r\nL 428.392187 7.2 \r\nL 93.592187 7.2 \r\nz\r\n\" style=\"fill:#ffffff;\"/>\r\n   </g>\r\n   <g id=\"patch_3\">\r\n    <path clip-path=\"url(#pa86e369346)\" d=\"M 93.592187 214.756364 \r\nL 412.44933 214.756364 \r\nL 412.44933 208.626977 \r\nL 93.592187 208.626977 \r\nz\r\n\" style=\"fill:#0000ff;\"/>\r\n   </g>\r\n   <g id=\"patch_4\">\r\n    <path clip-path=\"url(#pa86e369346)\" d=\"M 93.592187 207.09463 \r\nL 411.814732 207.09463 \r\nL 411.814732 200.965243 \r\nL 93.592187 200.965243 \r\nz\r\n\" style=\"fill:#0000ff;\"/>\r\n   </g>\r\n   <g id=\"patch_5\">\r\n    <path clip-path=\"url(#pa86e369346)\" d=\"M 93.592187 199.432896 \r\nL 411.053247 199.432896 \r\nL 411.053247 193.30351 \r\nL 93.592187 193.30351 \r\nz\r\n\" style=\"fill:#0000ff;\"/>\r\n   </g>\r\n   <g id=\"patch_6\">\r\n    <path clip-path=\"url(#pa86e369346)\" d=\"M 93.592187 191.771163 \r\nL 409.572538 191.771163 \r\nL 409.572538 185.641776 \r\nL 93.592187 185.641776 \r\nz\r\n\" style=\"fill:#0000ff;\"/>\r\n   </g>\r\n   <g id=\"patch_7\">\r\n    <path clip-path=\"url(#pa86e369346)\" d=\"M 93.592187 184.109429 \r\nL 405.680424 184.109429 \r\nL 405.680424 177.980042 \r\nL 93.592187 177.980042 \r\nz\r\n\" style=\"fill:#0000ff;\"/>\r\n   </g>\r\n   <g id=\"patch_8\">\r\n    <path clip-path=\"url(#pa86e369346)\" d=\"M 93.592187 176.447696 \r\nL 403.09979 176.447696 \r\nL 403.09979 170.318309 \r\nL 93.592187 170.318309 \r\nz\r\n\" style=\"fill:#0000ff;\"/>\r\n   </g>\r\n   <g id=\"patch_9\">\r\n    <path clip-path=\"url(#pa86e369346)\" d=\"M 93.592187 168.785962 \r\nL 403.015185 168.785962 \r\nL 403.015185 162.656575 \r\nL 93.592187 162.656575 \r\nz\r\n\" style=\"fill:#0000ff;\"/>\r\n   </g>\r\n   <g id=\"patch_10\">\r\n    <path clip-path=\"url(#pa86e369346)\" d=\"M 93.592187 161.124228 \r\nL 401.746008 161.124228 \r\nL 401.746008 154.994841 \r\nL 93.592187 154.994841 \r\nz\r\n\" style=\"fill:#0000ff;\"/>\r\n   </g>\r\n   <g id=\"patch_11\">\r\n    <path clip-path=\"url(#pa86e369346)\" d=\"M 93.592187 153.462495 \r\nL 401.746008 153.462495 \r\nL 401.746008 147.333108 \r\nL 93.592187 147.333108 \r\nz\r\n\" style=\"fill:#0000ff;\"/>\r\n   </g>\r\n   <g id=\"patch_12\">\r\n    <path clip-path=\"url(#pa86e369346)\" d=\"M 93.592187 145.800761 \r\nL 398.742308 145.800761 \r\nL 398.742308 139.671374 \r\nL 93.592187 139.671374 \r\nz\r\n\" style=\"fill:#0000ff;\"/>\r\n   </g>\r\n   <g id=\"patch_13\">\r\n    <path clip-path=\"url(#pa86e369346)\" d=\"M 93.592187 138.139027 \r\nL 389.985063 138.139027 \r\nL 389.985063 132.009641 \r\nL 93.592187 132.009641 \r\nz\r\n\" style=\"fill:#0000ff;\"/>\r\n   </g>\r\n   <g id=\"patch_14\">\r\n    <path clip-path=\"url(#pa86e369346)\" d=\"M 93.592187 130.477294 \r\nL 387.658264 130.477294 \r\nL 387.658264 124.347907 \r\nL 93.592187 124.347907 \r\nz\r\n\" style=\"fill:#0000ff;\"/>\r\n   </g>\r\n   <g id=\"patch_15\">\r\n    <path clip-path=\"url(#pa86e369346)\" d=\"M 93.592187 122.81556 \r\nL 385.119911 122.81556 \r\nL 385.119911 116.686173 \r\nL 93.592187 116.686173 \r\nz\r\n\" style=\"fill:#0000ff;\"/>\r\n   </g>\r\n   <g id=\"patch_16\">\r\n    <path clip-path=\"url(#pa86e369346)\" d=\"M 93.592187 115.153827 \r\nL 383.93536 115.153827 \r\nL 383.93536 109.02444 \r\nL 93.592187 109.02444 \r\nz\r\n\" style=\"fill:#0000ff;\"/>\r\n   </g>\r\n   <g id=\"patch_17\">\r\n    <path clip-path=\"url(#pa86e369346)\" d=\"M 93.592187 107.492093 \r\nL 375.008885 107.492093 \r\nL 375.008885 101.362706 \r\nL 93.592187 101.362706 \r\nz\r\n\" style=\"fill:#0000ff;\"/>\r\n   </g>\r\n   <g id=\"patch_18\">\r\n    <path clip-path=\"url(#pa86e369346)\" d=\"M 93.592187 99.830359 \r\nL 366.124712 99.830359 \r\nL 366.124712 93.700973 \r\nL 93.592187 93.700973 \r\nz\r\n\" style=\"fill:#0000ff;\"/>\r\n   </g>\r\n   <g id=\"patch_19\">\r\n    <path clip-path=\"url(#pa86e369346)\" d=\"M 93.592187 92.168626 \r\nL 364.474793 92.168626 \r\nL 364.474793 86.039239 \r\nL 93.592187 86.039239 \r\nz\r\n\" style=\"fill:#0000ff;\"/>\r\n   </g>\r\n   <g id=\"patch_20\">\r\n    <path clip-path=\"url(#pa86e369346)\" d=\"M 93.592187 84.506892 \r\nL 351.571599 84.506892 \r\nL 351.571599 78.377505 \r\nL 93.592187 78.377505 \r\nz\r\n\" style=\"fill:#0000ff;\"/>\r\n   </g>\r\n   <g id=\"patch_21\">\r\n    <path clip-path=\"url(#pa86e369346)\" d=\"M 93.592187 76.845159 \r\nL 345.902659 76.845159 \r\nL 345.902659 70.715772 \r\nL 93.592187 70.715772 \r\nz\r\n\" style=\"fill:#0000ff;\"/>\r\n   </g>\r\n   <g id=\"patch_22\">\r\n    <path clip-path=\"url(#pa86e369346)\" d=\"M 93.592187 69.183425 \r\nL 341.07981 69.183425 \r\nL 341.07981 63.054038 \r\nL 93.592187 63.054038 \r\nz\r\n\" style=\"fill:#0000ff;\"/>\r\n   </g>\r\n   <g id=\"patch_23\">\r\n    <path clip-path=\"url(#pa86e369346)\" d=\"M 93.592187 61.521691 \r\nL 337.187697 61.521691 \r\nL 337.187697 55.392304 \r\nL 93.592187 55.392304 \r\nz\r\n\" style=\"fill:#0000ff;\"/>\r\n   </g>\r\n   <g id=\"patch_24\">\r\n    <path clip-path=\"url(#pa86e369346)\" d=\"M 93.592187 53.859958 \r\nL 330.968784 53.859958 \r\nL 330.968784 47.730571 \r\nL 93.592187 47.730571 \r\nz\r\n\" style=\"fill:#0000ff;\"/>\r\n   </g>\r\n   <g id=\"patch_25\">\r\n    <path clip-path=\"url(#pa86e369346)\" d=\"M 93.592187 46.198224 \r\nL 326.272862 46.198224 \r\nL 326.272862 40.068837 \r\nL 93.592187 40.068837 \r\nz\r\n\" style=\"fill:#0000ff;\"/>\r\n   </g>\r\n   <g id=\"patch_26\">\r\n    <path clip-path=\"url(#pa86e369346)\" d=\"M 93.592187 38.53649 \r\nL 318.827075 38.53649 \r\nL 318.827075 32.407104 \r\nL 93.592187 32.407104 \r\nz\r\n\" style=\"fill:#0000ff;\"/>\r\n   </g>\r\n   <g id=\"patch_27\">\r\n    <path clip-path=\"url(#pa86e369346)\" d=\"M 93.592187 30.874757 \r\nL 314.72345 30.874757 \r\nL 314.72345 24.74537 \r\nL 93.592187 24.74537 \r\nz\r\n\" style=\"fill:#0000ff;\"/>\r\n   </g>\r\n   <g id=\"patch_28\">\r\n    <path clip-path=\"url(#pa86e369346)\" d=\"M 93.592187 23.213023 \r\nL 313.369668 23.213023 \r\nL 313.369668 17.083636 \r\nL 93.592187 17.083636 \r\nz\r\n\" style=\"fill:#0000ff;\"/>\r\n   </g>\r\n   <g id=\"matplotlib.axis_1\">\r\n    <g id=\"xtick_1\">\r\n     <g id=\"line2d_1\">\r\n      <defs>\r\n       <path d=\"M 0 0 \r\nL 0 3.5 \r\n\" id=\"mf15e8a4dd3\" style=\"stroke:#000000;stroke-width:0.8;\"/>\r\n      </defs>\r\n      <g>\r\n       <use style=\"stroke:#000000;stroke-width:0.8;\" x=\"93.592187\" xlink:href=\"#mf15e8a4dd3\" y=\"224.64\"/>\r\n      </g>\r\n     </g>\r\n     <g id=\"text_1\">\r\n      <!-- 0 -->\r\n      <g transform=\"translate(90.410937 239.238437)scale(0.1 -0.1)\">\r\n       <defs>\r\n        <path d=\"M 31.78125 66.40625 \r\nQ 24.171875 66.40625 20.328125 58.90625 \r\nQ 16.5 51.421875 16.5 36.375 \r\nQ 16.5 21.390625 20.328125 13.890625 \r\nQ 24.171875 6.390625 31.78125 6.390625 \r\nQ 39.453125 6.390625 43.28125 13.890625 \r\nQ 47.125 21.390625 47.125 36.375 \r\nQ 47.125 51.421875 43.28125 58.90625 \r\nQ 39.453125 66.40625 31.78125 66.40625 \r\nz\r\nM 31.78125 74.21875 \r\nQ 44.046875 74.21875 50.515625 64.515625 \r\nQ 56.984375 54.828125 56.984375 36.375 \r\nQ 56.984375 17.96875 50.515625 8.265625 \r\nQ 44.046875 -1.421875 31.78125 -1.421875 \r\nQ 19.53125 -1.421875 13.0625 8.265625 \r\nQ 6.59375 17.96875 6.59375 36.375 \r\nQ 6.59375 54.828125 13.0625 64.515625 \r\nQ 19.53125 74.21875 31.78125 74.21875 \r\nz\r\n\" id=\"DejaVuSans-48\"/>\r\n       </defs>\r\n       <use xlink:href=\"#DejaVuSans-48\"/>\r\n      </g>\r\n     </g>\r\n    </g>\r\n    <g id=\"xtick_2\">\r\n     <g id=\"line2d_2\">\r\n      <g>\r\n       <use style=\"stroke:#000000;stroke-width:0.8;\" x=\"135.897765\" xlink:href=\"#mf15e8a4dd3\" y=\"224.64\"/>\r\n      </g>\r\n     </g>\r\n     <g id=\"text_2\">\r\n      <!-- 1 -->\r\n      <g transform=\"translate(132.716515 239.238437)scale(0.1 -0.1)\">\r\n       <defs>\r\n        <path d=\"M 12.40625 8.296875 \r\nL 28.515625 8.296875 \r\nL 28.515625 63.921875 \r\nL 10.984375 60.40625 \r\nL 10.984375 69.390625 \r\nL 28.421875 72.90625 \r\nL 38.28125 72.90625 \r\nL 38.28125 8.296875 \r\nL 54.390625 8.296875 \r\nL 54.390625 0 \r\nL 12.40625 0 \r\nz\r\n\" id=\"DejaVuSans-49\"/>\r\n       </defs>\r\n       <use xlink:href=\"#DejaVuSans-49\"/>\r\n      </g>\r\n     </g>\r\n    </g>\r\n    <g id=\"xtick_3\">\r\n     <g id=\"line2d_3\">\r\n      <g>\r\n       <use style=\"stroke:#000000;stroke-width:0.8;\" x=\"178.203342\" xlink:href=\"#mf15e8a4dd3\" y=\"224.64\"/>\r\n      </g>\r\n     </g>\r\n     <g id=\"text_3\">\r\n      <!-- 2 -->\r\n      <g transform=\"translate(175.022092 239.238437)scale(0.1 -0.1)\">\r\n       <defs>\r\n        <path d=\"M 19.1875 8.296875 \r\nL 53.609375 8.296875 \r\nL 53.609375 0 \r\nL 7.328125 0 \r\nL 7.328125 8.296875 \r\nQ 12.9375 14.109375 22.625 23.890625 \r\nQ 32.328125 33.6875 34.8125 36.53125 \r\nQ 39.546875 41.84375 41.421875 45.53125 \r\nQ 43.3125 49.21875 43.3125 52.78125 \r\nQ 43.3125 58.59375 39.234375 62.25 \r\nQ 35.15625 65.921875 28.609375 65.921875 \r\nQ 23.96875 65.921875 18.8125 64.3125 \r\nQ 13.671875 62.703125 7.8125 59.421875 \r\nL 7.8125 69.390625 \r\nQ 13.765625 71.78125 18.9375 73 \r\nQ 24.125 74.21875 28.421875 74.21875 \r\nQ 39.75 74.21875 46.484375 68.546875 \r\nQ 53.21875 62.890625 53.21875 53.421875 \r\nQ 53.21875 48.921875 51.53125 44.890625 \r\nQ 49.859375 40.875 45.40625 35.40625 \r\nQ 44.1875 33.984375 37.640625 27.21875 \r\nQ 31.109375 20.453125 19.1875 8.296875 \r\nz\r\n\" id=\"DejaVuSans-50\"/>\r\n       </defs>\r\n       <use xlink:href=\"#DejaVuSans-50\"/>\r\n      </g>\r\n     </g>\r\n    </g>\r\n    <g id=\"xtick_4\">\r\n     <g id=\"line2d_4\">\r\n      <g>\r\n       <use style=\"stroke:#000000;stroke-width:0.8;\" x=\"220.508919\" xlink:href=\"#mf15e8a4dd3\" y=\"224.64\"/>\r\n      </g>\r\n     </g>\r\n     <g id=\"text_4\">\r\n      <!-- 3 -->\r\n      <g transform=\"translate(217.327669 239.238437)scale(0.1 -0.1)\">\r\n       <defs>\r\n        <path d=\"M 40.578125 39.3125 \r\nQ 47.65625 37.796875 51.625 33 \r\nQ 55.609375 28.21875 55.609375 21.1875 \r\nQ 55.609375 10.40625 48.1875 4.484375 \r\nQ 40.765625 -1.421875 27.09375 -1.421875 \r\nQ 22.515625 -1.421875 17.65625 -0.515625 \r\nQ 12.796875 0.390625 7.625 2.203125 \r\nL 7.625 11.71875 \r\nQ 11.71875 9.328125 16.59375 8.109375 \r\nQ 21.484375 6.890625 26.8125 6.890625 \r\nQ 36.078125 6.890625 40.9375 10.546875 \r\nQ 45.796875 14.203125 45.796875 21.1875 \r\nQ 45.796875 27.640625 41.28125 31.265625 \r\nQ 36.765625 34.90625 28.71875 34.90625 \r\nL 20.21875 34.90625 \r\nL 20.21875 43.015625 \r\nL 29.109375 43.015625 \r\nQ 36.375 43.015625 40.234375 45.921875 \r\nQ 44.09375 48.828125 44.09375 54.296875 \r\nQ 44.09375 59.90625 40.109375 62.90625 \r\nQ 36.140625 65.921875 28.71875 65.921875 \r\nQ 24.65625 65.921875 20.015625 65.03125 \r\nQ 15.375 64.15625 9.8125 62.3125 \r\nL 9.8125 71.09375 \r\nQ 15.4375 72.65625 20.34375 73.4375 \r\nQ 25.25 74.21875 29.59375 74.21875 \r\nQ 40.828125 74.21875 47.359375 69.109375 \r\nQ 53.90625 64.015625 53.90625 55.328125 \r\nQ 53.90625 49.265625 50.4375 45.09375 \r\nQ 46.96875 40.921875 40.578125 39.3125 \r\nz\r\n\" id=\"DejaVuSans-51\"/>\r\n       </defs>\r\n       <use xlink:href=\"#DejaVuSans-51\"/>\r\n      </g>\r\n     </g>\r\n    </g>\r\n    <g id=\"xtick_5\">\r\n     <g id=\"line2d_5\">\r\n      <g>\r\n       <use style=\"stroke:#000000;stroke-width:0.8;\" x=\"262.814496\" xlink:href=\"#mf15e8a4dd3\" y=\"224.64\"/>\r\n      </g>\r\n     </g>\r\n     <g id=\"text_5\">\r\n      <!-- 4 -->\r\n      <g transform=\"translate(259.633246 239.238437)scale(0.1 -0.1)\">\r\n       <defs>\r\n        <path d=\"M 37.796875 64.3125 \r\nL 12.890625 25.390625 \r\nL 37.796875 25.390625 \r\nz\r\nM 35.203125 72.90625 \r\nL 47.609375 72.90625 \r\nL 47.609375 25.390625 \r\nL 58.015625 25.390625 \r\nL 58.015625 17.1875 \r\nL 47.609375 17.1875 \r\nL 47.609375 0 \r\nL 37.796875 0 \r\nL 37.796875 17.1875 \r\nL 4.890625 17.1875 \r\nL 4.890625 26.703125 \r\nz\r\n\" id=\"DejaVuSans-52\"/>\r\n       </defs>\r\n       <use xlink:href=\"#DejaVuSans-52\"/>\r\n      </g>\r\n     </g>\r\n    </g>\r\n    <g id=\"xtick_6\">\r\n     <g id=\"line2d_6\">\r\n      <g>\r\n       <use style=\"stroke:#000000;stroke-width:0.8;\" x=\"305.120073\" xlink:href=\"#mf15e8a4dd3\" y=\"224.64\"/>\r\n      </g>\r\n     </g>\r\n     <g id=\"text_6\">\r\n      <!-- 5 -->\r\n      <g transform=\"translate(301.938823 239.238437)scale(0.1 -0.1)\">\r\n       <defs>\r\n        <path d=\"M 10.796875 72.90625 \r\nL 49.515625 72.90625 \r\nL 49.515625 64.59375 \r\nL 19.828125 64.59375 \r\nL 19.828125 46.734375 \r\nQ 21.96875 47.46875 24.109375 47.828125 \r\nQ 26.265625 48.1875 28.421875 48.1875 \r\nQ 40.625 48.1875 47.75 41.5 \r\nQ 54.890625 34.8125 54.890625 23.390625 \r\nQ 54.890625 11.625 47.5625 5.09375 \r\nQ 40.234375 -1.421875 26.90625 -1.421875 \r\nQ 22.3125 -1.421875 17.546875 -0.640625 \r\nQ 12.796875 0.140625 7.71875 1.703125 \r\nL 7.71875 11.625 \r\nQ 12.109375 9.234375 16.796875 8.0625 \r\nQ 21.484375 6.890625 26.703125 6.890625 \r\nQ 35.15625 6.890625 40.078125 11.328125 \r\nQ 45.015625 15.765625 45.015625 23.390625 \r\nQ 45.015625 31 40.078125 35.4375 \r\nQ 35.15625 39.890625 26.703125 39.890625 \r\nQ 22.75 39.890625 18.8125 39.015625 \r\nQ 14.890625 38.140625 10.796875 36.28125 \r\nz\r\n\" id=\"DejaVuSans-53\"/>\r\n       </defs>\r\n       <use xlink:href=\"#DejaVuSans-53\"/>\r\n      </g>\r\n     </g>\r\n    </g>\r\n    <g id=\"xtick_7\">\r\n     <g id=\"line2d_7\">\r\n      <g>\r\n       <use style=\"stroke:#000000;stroke-width:0.8;\" x=\"347.425651\" xlink:href=\"#mf15e8a4dd3\" y=\"224.64\"/>\r\n      </g>\r\n     </g>\r\n     <g id=\"text_7\">\r\n      <!-- 6 -->\r\n      <g transform=\"translate(344.244401 239.238437)scale(0.1 -0.1)\">\r\n       <defs>\r\n        <path d=\"M 33.015625 40.375 \r\nQ 26.375 40.375 22.484375 35.828125 \r\nQ 18.609375 31.296875 18.609375 23.390625 \r\nQ 18.609375 15.53125 22.484375 10.953125 \r\nQ 26.375 6.390625 33.015625 6.390625 \r\nQ 39.65625 6.390625 43.53125 10.953125 \r\nQ 47.40625 15.53125 47.40625 23.390625 \r\nQ 47.40625 31.296875 43.53125 35.828125 \r\nQ 39.65625 40.375 33.015625 40.375 \r\nz\r\nM 52.59375 71.296875 \r\nL 52.59375 62.3125 \r\nQ 48.875 64.0625 45.09375 64.984375 \r\nQ 41.3125 65.921875 37.59375 65.921875 \r\nQ 27.828125 65.921875 22.671875 59.328125 \r\nQ 17.53125 52.734375 16.796875 39.40625 \r\nQ 19.671875 43.65625 24.015625 45.921875 \r\nQ 28.375 48.1875 33.59375 48.1875 \r\nQ 44.578125 48.1875 50.953125 41.515625 \r\nQ 57.328125 34.859375 57.328125 23.390625 \r\nQ 57.328125 12.15625 50.6875 5.359375 \r\nQ 44.046875 -1.421875 33.015625 -1.421875 \r\nQ 20.359375 -1.421875 13.671875 8.265625 \r\nQ 6.984375 17.96875 6.984375 36.375 \r\nQ 6.984375 53.65625 15.1875 63.9375 \r\nQ 23.390625 74.21875 37.203125 74.21875 \r\nQ 40.921875 74.21875 44.703125 73.484375 \r\nQ 48.484375 72.75 52.59375 71.296875 \r\nz\r\n\" id=\"DejaVuSans-54\"/>\r\n       </defs>\r\n       <use xlink:href=\"#DejaVuSans-54\"/>\r\n      </g>\r\n     </g>\r\n    </g>\r\n    <g id=\"xtick_8\">\r\n     <g id=\"line2d_8\">\r\n      <g>\r\n       <use style=\"stroke:#000000;stroke-width:0.8;\" x=\"389.731228\" xlink:href=\"#mf15e8a4dd3\" y=\"224.64\"/>\r\n      </g>\r\n     </g>\r\n     <g id=\"text_8\">\r\n      <!-- 7 -->\r\n      <g transform=\"translate(386.549978 239.238437)scale(0.1 -0.1)\">\r\n       <defs>\r\n        <path d=\"M 8.203125 72.90625 \r\nL 55.078125 72.90625 \r\nL 55.078125 68.703125 \r\nL 28.609375 0 \r\nL 18.3125 0 \r\nL 43.21875 64.59375 \r\nL 8.203125 64.59375 \r\nz\r\n\" id=\"DejaVuSans-55\"/>\r\n       </defs>\r\n       <use xlink:href=\"#DejaVuSans-55\"/>\r\n      </g>\r\n     </g>\r\n    </g>\r\n    <g id=\"text_9\">\r\n     <!-- Happiness Score -->\r\n     <g transform=\"translate(219.384375 252.916562)scale(0.1 -0.1)\">\r\n      <defs>\r\n       <path d=\"M 9.8125 72.90625 \r\nL 19.671875 72.90625 \r\nL 19.671875 43.015625 \r\nL 55.515625 43.015625 \r\nL 55.515625 72.90625 \r\nL 65.375 72.90625 \r\nL 65.375 0 \r\nL 55.515625 0 \r\nL 55.515625 34.71875 \r\nL 19.671875 34.71875 \r\nL 19.671875 0 \r\nL 9.8125 0 \r\nz\r\n\" id=\"DejaVuSans-72\"/>\r\n       <path d=\"M 34.28125 27.484375 \r\nQ 23.390625 27.484375 19.1875 25 \r\nQ 14.984375 22.515625 14.984375 16.5 \r\nQ 14.984375 11.71875 18.140625 8.90625 \r\nQ 21.296875 6.109375 26.703125 6.109375 \r\nQ 34.1875 6.109375 38.703125 11.40625 \r\nQ 43.21875 16.703125 43.21875 25.484375 \r\nL 43.21875 27.484375 \r\nz\r\nM 52.203125 31.203125 \r\nL 52.203125 0 \r\nL 43.21875 0 \r\nL 43.21875 8.296875 \r\nQ 40.140625 3.328125 35.546875 0.953125 \r\nQ 30.953125 -1.421875 24.3125 -1.421875 \r\nQ 15.921875 -1.421875 10.953125 3.296875 \r\nQ 6 8.015625 6 15.921875 \r\nQ 6 25.140625 12.171875 29.828125 \r\nQ 18.359375 34.515625 30.609375 34.515625 \r\nL 43.21875 34.515625 \r\nL 43.21875 35.40625 \r\nQ 43.21875 41.609375 39.140625 45 \r\nQ 35.0625 48.390625 27.6875 48.390625 \r\nQ 23 48.390625 18.546875 47.265625 \r\nQ 14.109375 46.140625 10.015625 43.890625 \r\nL 10.015625 52.203125 \r\nQ 14.9375 54.109375 19.578125 55.046875 \r\nQ 24.21875 56 28.609375 56 \r\nQ 40.484375 56 46.34375 49.84375 \r\nQ 52.203125 43.703125 52.203125 31.203125 \r\nz\r\n\" id=\"DejaVuSans-97\"/>\r\n       <path d=\"M 18.109375 8.203125 \r\nL 18.109375 -20.796875 \r\nL 9.078125 -20.796875 \r\nL 9.078125 54.6875 \r\nL 18.109375 54.6875 \r\nL 18.109375 46.390625 \r\nQ 20.953125 51.265625 25.265625 53.625 \r\nQ 29.59375 56 35.59375 56 \r\nQ 45.5625 56 51.78125 48.09375 \r\nQ 58.015625 40.1875 58.015625 27.296875 \r\nQ 58.015625 14.40625 51.78125 6.484375 \r\nQ 45.5625 -1.421875 35.59375 -1.421875 \r\nQ 29.59375 -1.421875 25.265625 0.953125 \r\nQ 20.953125 3.328125 18.109375 8.203125 \r\nz\r\nM 48.6875 27.296875 \r\nQ 48.6875 37.203125 44.609375 42.84375 \r\nQ 40.53125 48.484375 33.40625 48.484375 \r\nQ 26.265625 48.484375 22.1875 42.84375 \r\nQ 18.109375 37.203125 18.109375 27.296875 \r\nQ 18.109375 17.390625 22.1875 11.75 \r\nQ 26.265625 6.109375 33.40625 6.109375 \r\nQ 40.53125 6.109375 44.609375 11.75 \r\nQ 48.6875 17.390625 48.6875 27.296875 \r\nz\r\n\" id=\"DejaVuSans-112\"/>\r\n       <path d=\"M 9.421875 54.6875 \r\nL 18.40625 54.6875 \r\nL 18.40625 0 \r\nL 9.421875 0 \r\nz\r\nM 9.421875 75.984375 \r\nL 18.40625 75.984375 \r\nL 18.40625 64.59375 \r\nL 9.421875 64.59375 \r\nz\r\n\" id=\"DejaVuSans-105\"/>\r\n       <path d=\"M 54.890625 33.015625 \r\nL 54.890625 0 \r\nL 45.90625 0 \r\nL 45.90625 32.71875 \r\nQ 45.90625 40.484375 42.875 44.328125 \r\nQ 39.84375 48.1875 33.796875 48.1875 \r\nQ 26.515625 48.1875 22.3125 43.546875 \r\nQ 18.109375 38.921875 18.109375 30.90625 \r\nL 18.109375 0 \r\nL 9.078125 0 \r\nL 9.078125 54.6875 \r\nL 18.109375 54.6875 \r\nL 18.109375 46.1875 \r\nQ 21.34375 51.125 25.703125 53.5625 \r\nQ 30.078125 56 35.796875 56 \r\nQ 45.21875 56 50.046875 50.171875 \r\nQ 54.890625 44.34375 54.890625 33.015625 \r\nz\r\n\" id=\"DejaVuSans-110\"/>\r\n       <path d=\"M 56.203125 29.59375 \r\nL 56.203125 25.203125 \r\nL 14.890625 25.203125 \r\nQ 15.484375 15.921875 20.484375 11.0625 \r\nQ 25.484375 6.203125 34.421875 6.203125 \r\nQ 39.59375 6.203125 44.453125 7.46875 \r\nQ 49.3125 8.734375 54.109375 11.28125 \r\nL 54.109375 2.78125 \r\nQ 49.265625 0.734375 44.1875 -0.34375 \r\nQ 39.109375 -1.421875 33.890625 -1.421875 \r\nQ 20.796875 -1.421875 13.15625 6.1875 \r\nQ 5.515625 13.8125 5.515625 26.8125 \r\nQ 5.515625 40.234375 12.765625 48.109375 \r\nQ 20.015625 56 32.328125 56 \r\nQ 43.359375 56 49.78125 48.890625 \r\nQ 56.203125 41.796875 56.203125 29.59375 \r\nz\r\nM 47.21875 32.234375 \r\nQ 47.125 39.59375 43.09375 43.984375 \r\nQ 39.0625 48.390625 32.421875 48.390625 \r\nQ 24.90625 48.390625 20.390625 44.140625 \r\nQ 15.875 39.890625 15.1875 32.171875 \r\nz\r\n\" id=\"DejaVuSans-101\"/>\r\n       <path d=\"M 44.28125 53.078125 \r\nL 44.28125 44.578125 \r\nQ 40.484375 46.53125 36.375 47.5 \r\nQ 32.28125 48.484375 27.875 48.484375 \r\nQ 21.1875 48.484375 17.84375 46.4375 \r\nQ 14.5 44.390625 14.5 40.28125 \r\nQ 14.5 37.15625 16.890625 35.375 \r\nQ 19.28125 33.59375 26.515625 31.984375 \r\nL 29.59375 31.296875 \r\nQ 39.15625 29.25 43.1875 25.515625 \r\nQ 47.21875 21.78125 47.21875 15.09375 \r\nQ 47.21875 7.46875 41.1875 3.015625 \r\nQ 35.15625 -1.421875 24.609375 -1.421875 \r\nQ 20.21875 -1.421875 15.453125 -0.5625 \r\nQ 10.6875 0.296875 5.421875 2 \r\nL 5.421875 11.28125 \r\nQ 10.40625 8.6875 15.234375 7.390625 \r\nQ 20.0625 6.109375 24.8125 6.109375 \r\nQ 31.15625 6.109375 34.5625 8.28125 \r\nQ 37.984375 10.453125 37.984375 14.40625 \r\nQ 37.984375 18.0625 35.515625 20.015625 \r\nQ 33.0625 21.96875 24.703125 23.78125 \r\nL 21.578125 24.515625 \r\nQ 13.234375 26.265625 9.515625 29.90625 \r\nQ 5.8125 33.546875 5.8125 39.890625 \r\nQ 5.8125 47.609375 11.28125 51.796875 \r\nQ 16.75 56 26.8125 56 \r\nQ 31.78125 56 36.171875 55.265625 \r\nQ 40.578125 54.546875 44.28125 53.078125 \r\nz\r\n\" id=\"DejaVuSans-115\"/>\r\n       <path id=\"DejaVuSans-32\"/>\r\n       <path d=\"M 53.515625 70.515625 \r\nL 53.515625 60.890625 \r\nQ 47.90625 63.578125 42.921875 64.890625 \r\nQ 37.9375 66.21875 33.296875 66.21875 \r\nQ 25.25 66.21875 20.875 63.09375 \r\nQ 16.5 59.96875 16.5 54.203125 \r\nQ 16.5 49.359375 19.40625 46.890625 \r\nQ 22.3125 44.4375 30.421875 42.921875 \r\nL 36.375 41.703125 \r\nQ 47.40625 39.59375 52.65625 34.296875 \r\nQ 57.90625 29 57.90625 20.125 \r\nQ 57.90625 9.515625 50.796875 4.046875 \r\nQ 43.703125 -1.421875 29.984375 -1.421875 \r\nQ 24.8125 -1.421875 18.96875 -0.25 \r\nQ 13.140625 0.921875 6.890625 3.21875 \r\nL 6.890625 13.375 \r\nQ 12.890625 10.015625 18.65625 8.296875 \r\nQ 24.421875 6.59375 29.984375 6.59375 \r\nQ 38.421875 6.59375 43.015625 9.90625 \r\nQ 47.609375 13.234375 47.609375 19.390625 \r\nQ 47.609375 24.75 44.3125 27.78125 \r\nQ 41.015625 30.8125 33.5 32.328125 \r\nL 27.484375 33.5 \r\nQ 16.453125 35.6875 11.515625 40.375 \r\nQ 6.59375 45.0625 6.59375 53.421875 \r\nQ 6.59375 63.09375 13.40625 68.65625 \r\nQ 20.21875 74.21875 32.171875 74.21875 \r\nQ 37.3125 74.21875 42.625 73.28125 \r\nQ 47.953125 72.359375 53.515625 70.515625 \r\nz\r\n\" id=\"DejaVuSans-83\"/>\r\n       <path d=\"M 48.78125 52.59375 \r\nL 48.78125 44.1875 \r\nQ 44.96875 46.296875 41.140625 47.34375 \r\nQ 37.3125 48.390625 33.40625 48.390625 \r\nQ 24.65625 48.390625 19.8125 42.84375 \r\nQ 14.984375 37.3125 14.984375 27.296875 \r\nQ 14.984375 17.28125 19.8125 11.734375 \r\nQ 24.65625 6.203125 33.40625 6.203125 \r\nQ 37.3125 6.203125 41.140625 7.25 \r\nQ 44.96875 8.296875 48.78125 10.40625 \r\nL 48.78125 2.09375 \r\nQ 45.015625 0.34375 40.984375 -0.53125 \r\nQ 36.96875 -1.421875 32.421875 -1.421875 \r\nQ 20.0625 -1.421875 12.78125 6.34375 \r\nQ 5.515625 14.109375 5.515625 27.296875 \r\nQ 5.515625 40.671875 12.859375 48.328125 \r\nQ 20.21875 56 33.015625 56 \r\nQ 37.15625 56 41.109375 55.140625 \r\nQ 45.0625 54.296875 48.78125 52.59375 \r\nz\r\n\" id=\"DejaVuSans-99\"/>\r\n       <path d=\"M 30.609375 48.390625 \r\nQ 23.390625 48.390625 19.1875 42.75 \r\nQ 14.984375 37.109375 14.984375 27.296875 \r\nQ 14.984375 17.484375 19.15625 11.84375 \r\nQ 23.34375 6.203125 30.609375 6.203125 \r\nQ 37.796875 6.203125 41.984375 11.859375 \r\nQ 46.1875 17.53125 46.1875 27.296875 \r\nQ 46.1875 37.015625 41.984375 42.703125 \r\nQ 37.796875 48.390625 30.609375 48.390625 \r\nz\r\nM 30.609375 56 \r\nQ 42.328125 56 49.015625 48.375 \r\nQ 55.71875 40.765625 55.71875 27.296875 \r\nQ 55.71875 13.875 49.015625 6.21875 \r\nQ 42.328125 -1.421875 30.609375 -1.421875 \r\nQ 18.84375 -1.421875 12.171875 6.21875 \r\nQ 5.515625 13.875 5.515625 27.296875 \r\nQ 5.515625 40.765625 12.171875 48.375 \r\nQ 18.84375 56 30.609375 56 \r\nz\r\n\" id=\"DejaVuSans-111\"/>\r\n       <path d=\"M 41.109375 46.296875 \r\nQ 39.59375 47.171875 37.8125 47.578125 \r\nQ 36.03125 48 33.890625 48 \r\nQ 26.265625 48 22.1875 43.046875 \r\nQ 18.109375 38.09375 18.109375 28.8125 \r\nL 18.109375 0 \r\nL 9.078125 0 \r\nL 9.078125 54.6875 \r\nL 18.109375 54.6875 \r\nL 18.109375 46.1875 \r\nQ 20.953125 51.171875 25.484375 53.578125 \r\nQ 30.03125 56 36.53125 56 \r\nQ 37.453125 56 38.578125 55.875 \r\nQ 39.703125 55.765625 41.0625 55.515625 \r\nz\r\n\" id=\"DejaVuSans-114\"/>\r\n      </defs>\r\n      <use xlink:href=\"#DejaVuSans-72\"/>\r\n      <use x=\"75.195312\" xlink:href=\"#DejaVuSans-97\"/>\r\n      <use x=\"136.474609\" xlink:href=\"#DejaVuSans-112\"/>\r\n      <use x=\"199.951172\" xlink:href=\"#DejaVuSans-112\"/>\r\n      <use x=\"263.427734\" xlink:href=\"#DejaVuSans-105\"/>\r\n      <use x=\"291.210938\" xlink:href=\"#DejaVuSans-110\"/>\r\n      <use x=\"354.589844\" xlink:href=\"#DejaVuSans-101\"/>\r\n      <use x=\"416.113281\" xlink:href=\"#DejaVuSans-115\"/>\r\n      <use x=\"468.212891\" xlink:href=\"#DejaVuSans-115\"/>\r\n      <use x=\"520.3125\" xlink:href=\"#DejaVuSans-32\"/>\r\n      <use x=\"552.099609\" xlink:href=\"#DejaVuSans-83\"/>\r\n      <use x=\"615.576172\" xlink:href=\"#DejaVuSans-99\"/>\r\n      <use x=\"670.556641\" xlink:href=\"#DejaVuSans-111\"/>\r\n      <use x=\"731.738281\" xlink:href=\"#DejaVuSans-114\"/>\r\n      <use x=\"770.601562\" xlink:href=\"#DejaVuSans-101\"/>\r\n     </g>\r\n    </g>\r\n   </g>\r\n   <g id=\"matplotlib.axis_2\">\r\n    <g id=\"ytick_1\">\r\n     <g id=\"line2d_9\">\r\n      <defs>\r\n       <path d=\"M 0 0 \r\nL -3.5 0 \r\n\" id=\"m8862ae39d4\" style=\"stroke:#000000;stroke-width:0.8;\"/>\r\n      </defs>\r\n      <g>\r\n       <use style=\"stroke:#000000;stroke-width:0.8;\" x=\"93.592187\" xlink:href=\"#m8862ae39d4\" y=\"211.69167\"/>\r\n      </g>\r\n     </g>\r\n     <g id=\"text_10\">\r\n      <!-- Norway -->\r\n      <g transform=\"translate(48.65625 215.490889)scale(0.1 -0.1)\">\r\n       <defs>\r\n        <path d=\"M 9.8125 72.90625 \r\nL 23.09375 72.90625 \r\nL 55.421875 11.921875 \r\nL 55.421875 72.90625 \r\nL 64.984375 72.90625 \r\nL 64.984375 0 \r\nL 51.703125 0 \r\nL 19.390625 60.984375 \r\nL 19.390625 0 \r\nL 9.8125 0 \r\nz\r\n\" id=\"DejaVuSans-78\"/>\r\n        <path d=\"M 4.203125 54.6875 \r\nL 13.1875 54.6875 \r\nL 24.421875 12.015625 \r\nL 35.59375 54.6875 \r\nL 46.1875 54.6875 \r\nL 57.421875 12.015625 \r\nL 68.609375 54.6875 \r\nL 77.59375 54.6875 \r\nL 63.28125 0 \r\nL 52.6875 0 \r\nL 40.921875 44.828125 \r\nL 29.109375 0 \r\nL 18.5 0 \r\nz\r\n\" id=\"DejaVuSans-119\"/>\r\n        <path d=\"M 32.171875 -5.078125 \r\nQ 28.375 -14.84375 24.75 -17.8125 \r\nQ 21.140625 -20.796875 15.09375 -20.796875 \r\nL 7.90625 -20.796875 \r\nL 7.90625 -13.28125 \r\nL 13.1875 -13.28125 \r\nQ 16.890625 -13.28125 18.9375 -11.515625 \r\nQ 21 -9.765625 23.484375 -3.21875 \r\nL 25.09375 0.875 \r\nL 2.984375 54.6875 \r\nL 12.5 54.6875 \r\nL 29.59375 11.921875 \r\nL 46.6875 54.6875 \r\nL 56.203125 54.6875 \r\nz\r\n\" id=\"DejaVuSans-121\"/>\r\n       </defs>\r\n       <use xlink:href=\"#DejaVuSans-78\"/>\r\n       <use x=\"74.804688\" xlink:href=\"#DejaVuSans-111\"/>\r\n       <use x=\"135.986328\" xlink:href=\"#DejaVuSans-114\"/>\r\n       <use x=\"177.099609\" xlink:href=\"#DejaVuSans-119\"/>\r\n       <use x=\"258.886719\" xlink:href=\"#DejaVuSans-97\"/>\r\n       <use x=\"320.166016\" xlink:href=\"#DejaVuSans-121\"/>\r\n      </g>\r\n     </g>\r\n    </g>\r\n    <g id=\"ytick_2\">\r\n     <g id=\"line2d_10\">\r\n      <g>\r\n       <use style=\"stroke:#000000;stroke-width:0.8;\" x=\"93.592187\" xlink:href=\"#m8862ae39d4\" y=\"204.029937\"/>\r\n      </g>\r\n     </g>\r\n     <g id=\"text_11\">\r\n      <!-- Denmark -->\r\n      <g transform=\"translate(40.63125 207.829155)scale(0.1 -0.1)\">\r\n       <defs>\r\n        <path d=\"M 19.671875 64.796875 \r\nL 19.671875 8.109375 \r\nL 31.59375 8.109375 \r\nQ 46.6875 8.109375 53.6875 14.9375 \r\nQ 60.6875 21.78125 60.6875 36.53125 \r\nQ 60.6875 51.171875 53.6875 57.984375 \r\nQ 46.6875 64.796875 31.59375 64.796875 \r\nz\r\nM 9.8125 72.90625 \r\nL 30.078125 72.90625 \r\nQ 51.265625 72.90625 61.171875 64.09375 \r\nQ 71.09375 55.28125 71.09375 36.53125 \r\nQ 71.09375 17.671875 61.125 8.828125 \r\nQ 51.171875 0 30.078125 0 \r\nL 9.8125 0 \r\nz\r\n\" id=\"DejaVuSans-68\"/>\r\n        <path d=\"M 52 44.1875 \r\nQ 55.375 50.25 60.0625 53.125 \r\nQ 64.75 56 71.09375 56 \r\nQ 79.640625 56 84.28125 50.015625 \r\nQ 88.921875 44.046875 88.921875 33.015625 \r\nL 88.921875 0 \r\nL 79.890625 0 \r\nL 79.890625 32.71875 \r\nQ 79.890625 40.578125 77.09375 44.375 \r\nQ 74.3125 48.1875 68.609375 48.1875 \r\nQ 61.625 48.1875 57.5625 43.546875 \r\nQ 53.515625 38.921875 53.515625 30.90625 \r\nL 53.515625 0 \r\nL 44.484375 0 \r\nL 44.484375 32.71875 \r\nQ 44.484375 40.625 41.703125 44.40625 \r\nQ 38.921875 48.1875 33.109375 48.1875 \r\nQ 26.21875 48.1875 22.15625 43.53125 \r\nQ 18.109375 38.875 18.109375 30.90625 \r\nL 18.109375 0 \r\nL 9.078125 0 \r\nL 9.078125 54.6875 \r\nL 18.109375 54.6875 \r\nL 18.109375 46.1875 \r\nQ 21.1875 51.21875 25.484375 53.609375 \r\nQ 29.78125 56 35.6875 56 \r\nQ 41.65625 56 45.828125 52.96875 \r\nQ 50 49.953125 52 44.1875 \r\nz\r\n\" id=\"DejaVuSans-109\"/>\r\n        <path d=\"M 9.078125 75.984375 \r\nL 18.109375 75.984375 \r\nL 18.109375 31.109375 \r\nL 44.921875 54.6875 \r\nL 56.390625 54.6875 \r\nL 27.390625 29.109375 \r\nL 57.625 0 \r\nL 45.90625 0 \r\nL 18.109375 26.703125 \r\nL 18.109375 0 \r\nL 9.078125 0 \r\nz\r\n\" id=\"DejaVuSans-107\"/>\r\n       </defs>\r\n       <use xlink:href=\"#DejaVuSans-68\"/>\r\n       <use x=\"77.001953\" xlink:href=\"#DejaVuSans-101\"/>\r\n       <use x=\"138.525391\" xlink:href=\"#DejaVuSans-110\"/>\r\n       <use x=\"201.904297\" xlink:href=\"#DejaVuSans-109\"/>\r\n       <use x=\"299.316406\" xlink:href=\"#DejaVuSans-97\"/>\r\n       <use x=\"360.595703\" xlink:href=\"#DejaVuSans-114\"/>\r\n       <use x=\"401.708984\" xlink:href=\"#DejaVuSans-107\"/>\r\n      </g>\r\n     </g>\r\n    </g>\r\n    <g id=\"ytick_3\">\r\n     <g id=\"line2d_11\">\r\n      <g>\r\n       <use style=\"stroke:#000000;stroke-width:0.8;\" x=\"93.592187\" xlink:href=\"#m8862ae39d4\" y=\"196.368203\"/>\r\n      </g>\r\n     </g>\r\n     <g id=\"text_12\">\r\n      <!-- Iceland -->\r\n      <g transform=\"translate(50.398437 200.167422)scale(0.1 -0.1)\">\r\n       <defs>\r\n        <path d=\"M 9.8125 72.90625 \r\nL 19.671875 72.90625 \r\nL 19.671875 0 \r\nL 9.8125 0 \r\nz\r\n\" id=\"DejaVuSans-73\"/>\r\n        <path d=\"M 9.421875 75.984375 \r\nL 18.40625 75.984375 \r\nL 18.40625 0 \r\nL 9.421875 0 \r\nz\r\n\" id=\"DejaVuSans-108\"/>\r\n        <path d=\"M 45.40625 46.390625 \r\nL 45.40625 75.984375 \r\nL 54.390625 75.984375 \r\nL 54.390625 0 \r\nL 45.40625 0 \r\nL 45.40625 8.203125 \r\nQ 42.578125 3.328125 38.25 0.953125 \r\nQ 33.9375 -1.421875 27.875 -1.421875 \r\nQ 17.96875 -1.421875 11.734375 6.484375 \r\nQ 5.515625 14.40625 5.515625 27.296875 \r\nQ 5.515625 40.1875 11.734375 48.09375 \r\nQ 17.96875 56 27.875 56 \r\nQ 33.9375 56 38.25 53.625 \r\nQ 42.578125 51.265625 45.40625 46.390625 \r\nz\r\nM 14.796875 27.296875 \r\nQ 14.796875 17.390625 18.875 11.75 \r\nQ 22.953125 6.109375 30.078125 6.109375 \r\nQ 37.203125 6.109375 41.296875 11.75 \r\nQ 45.40625 17.390625 45.40625 27.296875 \r\nQ 45.40625 37.203125 41.296875 42.84375 \r\nQ 37.203125 48.484375 30.078125 48.484375 \r\nQ 22.953125 48.484375 18.875 42.84375 \r\nQ 14.796875 37.203125 14.796875 27.296875 \r\nz\r\n\" id=\"DejaVuSans-100\"/>\r\n       </defs>\r\n       <use xlink:href=\"#DejaVuSans-73\"/>\r\n       <use x=\"29.492188\" xlink:href=\"#DejaVuSans-99\"/>\r\n       <use x=\"84.472656\" xlink:href=\"#DejaVuSans-101\"/>\r\n       <use x=\"145.996094\" xlink:href=\"#DejaVuSans-108\"/>\r\n       <use x=\"173.779297\" xlink:href=\"#DejaVuSans-97\"/>\r\n       <use x=\"235.058594\" xlink:href=\"#DejaVuSans-110\"/>\r\n       <use x=\"298.4375\" xlink:href=\"#DejaVuSans-100\"/>\r\n      </g>\r\n     </g>\r\n    </g>\r\n    <g id=\"ytick_4\">\r\n     <g id=\"line2d_12\">\r\n      <g>\r\n       <use style=\"stroke:#000000;stroke-width:0.8;\" x=\"93.592187\" xlink:href=\"#m8862ae39d4\" y=\"188.706469\"/>\r\n      </g>\r\n     </g>\r\n     <g id=\"text_13\">\r\n      <!-- Finland -->\r\n      <g transform=\"translate(50.857812 192.505688)scale(0.1 -0.1)\">\r\n       <defs>\r\n        <path d=\"M 9.8125 72.90625 \r\nL 51.703125 72.90625 \r\nL 51.703125 64.59375 \r\nL 19.671875 64.59375 \r\nL 19.671875 43.109375 \r\nL 48.578125 43.109375 \r\nL 48.578125 34.8125 \r\nL 19.671875 34.8125 \r\nL 19.671875 0 \r\nL 9.8125 0 \r\nz\r\n\" id=\"DejaVuSans-70\"/>\r\n       </defs>\r\n       <use xlink:href=\"#DejaVuSans-70\"/>\r\n       <use x=\"50.269531\" xlink:href=\"#DejaVuSans-105\"/>\r\n       <use x=\"78.052734\" xlink:href=\"#DejaVuSans-110\"/>\r\n       <use x=\"141.431641\" xlink:href=\"#DejaVuSans-108\"/>\r\n       <use x=\"169.214844\" xlink:href=\"#DejaVuSans-97\"/>\r\n       <use x=\"230.494141\" xlink:href=\"#DejaVuSans-110\"/>\r\n       <use x=\"293.873047\" xlink:href=\"#DejaVuSans-100\"/>\r\n      </g>\r\n     </g>\r\n    </g>\r\n    <g id=\"ytick_5\">\r\n     <g id=\"line2d_13\">\r\n      <g>\r\n       <use style=\"stroke:#000000;stroke-width:0.8;\" x=\"93.592187\" xlink:href=\"#m8862ae39d4\" y=\"181.044736\"/>\r\n      </g>\r\n     </g>\r\n     <g id=\"text_14\">\r\n      <!-- Netherlands -->\r\n      <g transform=\"translate(25.634375 184.843954)scale(0.1 -0.1)\">\r\n       <defs>\r\n        <path d=\"M 18.3125 70.21875 \r\nL 18.3125 54.6875 \r\nL 36.8125 54.6875 \r\nL 36.8125 47.703125 \r\nL 18.3125 47.703125 \r\nL 18.3125 18.015625 \r\nQ 18.3125 11.328125 20.140625 9.421875 \r\nQ 21.96875 7.515625 27.59375 7.515625 \r\nL 36.8125 7.515625 \r\nL 36.8125 0 \r\nL 27.59375 0 \r\nQ 17.1875 0 13.234375 3.875 \r\nQ 9.28125 7.765625 9.28125 18.015625 \r\nL 9.28125 47.703125 \r\nL 2.6875 47.703125 \r\nL 2.6875 54.6875 \r\nL 9.28125 54.6875 \r\nL 9.28125 70.21875 \r\nz\r\n\" id=\"DejaVuSans-116\"/>\r\n        <path d=\"M 54.890625 33.015625 \r\nL 54.890625 0 \r\nL 45.90625 0 \r\nL 45.90625 32.71875 \r\nQ 45.90625 40.484375 42.875 44.328125 \r\nQ 39.84375 48.1875 33.796875 48.1875 \r\nQ 26.515625 48.1875 22.3125 43.546875 \r\nQ 18.109375 38.921875 18.109375 30.90625 \r\nL 18.109375 0 \r\nL 9.078125 0 \r\nL 9.078125 75.984375 \r\nL 18.109375 75.984375 \r\nL 18.109375 46.1875 \r\nQ 21.34375 51.125 25.703125 53.5625 \r\nQ 30.078125 56 35.796875 56 \r\nQ 45.21875 56 50.046875 50.171875 \r\nQ 54.890625 44.34375 54.890625 33.015625 \r\nz\r\n\" id=\"DejaVuSans-104\"/>\r\n       </defs>\r\n       <use xlink:href=\"#DejaVuSans-78\"/>\r\n       <use x=\"74.804688\" xlink:href=\"#DejaVuSans-101\"/>\r\n       <use x=\"136.328125\" xlink:href=\"#DejaVuSans-116\"/>\r\n       <use x=\"175.537109\" xlink:href=\"#DejaVuSans-104\"/>\r\n       <use x=\"238.916016\" xlink:href=\"#DejaVuSans-101\"/>\r\n       <use x=\"300.439453\" xlink:href=\"#DejaVuSans-114\"/>\r\n       <use x=\"341.552734\" xlink:href=\"#DejaVuSans-108\"/>\r\n       <use x=\"369.335938\" xlink:href=\"#DejaVuSans-97\"/>\r\n       <use x=\"430.615234\" xlink:href=\"#DejaVuSans-110\"/>\r\n       <use x=\"493.994141\" xlink:href=\"#DejaVuSans-100\"/>\r\n       <use x=\"557.470703\" xlink:href=\"#DejaVuSans-115\"/>\r\n      </g>\r\n     </g>\r\n    </g>\r\n    <g id=\"ytick_6\">\r\n     <g id=\"line2d_14\">\r\n      <g>\r\n       <use style=\"stroke:#000000;stroke-width:0.8;\" x=\"93.592187\" xlink:href=\"#m8862ae39d4\" y=\"173.383002\"/>\r\n      </g>\r\n     </g>\r\n     <g id=\"text_15\">\r\n      <!-- Canada -->\r\n      <g transform=\"translate(48.539062 177.182221)scale(0.1 -0.1)\">\r\n       <defs>\r\n        <path d=\"M 64.40625 67.28125 \r\nL 64.40625 56.890625 \r\nQ 59.421875 61.53125 53.78125 63.8125 \r\nQ 48.140625 66.109375 41.796875 66.109375 \r\nQ 29.296875 66.109375 22.65625 58.46875 \r\nQ 16.015625 50.828125 16.015625 36.375 \r\nQ 16.015625 21.96875 22.65625 14.328125 \r\nQ 29.296875 6.6875 41.796875 6.6875 \r\nQ 48.140625 6.6875 53.78125 8.984375 \r\nQ 59.421875 11.28125 64.40625 15.921875 \r\nL 64.40625 5.609375 \r\nQ 59.234375 2.09375 53.4375 0.328125 \r\nQ 47.65625 -1.421875 41.21875 -1.421875 \r\nQ 24.65625 -1.421875 15.125 8.703125 \r\nQ 5.609375 18.84375 5.609375 36.375 \r\nQ 5.609375 53.953125 15.125 64.078125 \r\nQ 24.65625 74.21875 41.21875 74.21875 \r\nQ 47.75 74.21875 53.53125 72.484375 \r\nQ 59.328125 70.75 64.40625 67.28125 \r\nz\r\n\" id=\"DejaVuSans-67\"/>\r\n       </defs>\r\n       <use xlink:href=\"#DejaVuSans-67\"/>\r\n       <use x=\"69.824219\" xlink:href=\"#DejaVuSans-97\"/>\r\n       <use x=\"131.103516\" xlink:href=\"#DejaVuSans-110\"/>\r\n       <use x=\"194.482422\" xlink:href=\"#DejaVuSans-97\"/>\r\n       <use x=\"255.761719\" xlink:href=\"#DejaVuSans-100\"/>\r\n       <use x=\"319.238281\" xlink:href=\"#DejaVuSans-97\"/>\r\n      </g>\r\n     </g>\r\n    </g>\r\n    <g id=\"ytick_7\">\r\n     <g id=\"line2d_15\">\r\n      <g>\r\n       <use style=\"stroke:#000000;stroke-width:0.8;\" x=\"93.592187\" xlink:href=\"#m8862ae39d4\" y=\"165.721268\"/>\r\n      </g>\r\n     </g>\r\n     <g id=\"text_16\">\r\n      <!-- New Zealand -->\r\n      <g transform=\"translate(20.878125 169.520487)scale(0.1 -0.1)\">\r\n       <defs>\r\n        <path d=\"M 5.609375 72.90625 \r\nL 62.890625 72.90625 \r\nL 62.890625 65.375 \r\nL 16.796875 8.296875 \r\nL 64.015625 8.296875 \r\nL 64.015625 0 \r\nL 4.5 0 \r\nL 4.5 7.515625 \r\nL 50.59375 64.59375 \r\nL 5.609375 64.59375 \r\nz\r\n\" id=\"DejaVuSans-90\"/>\r\n       </defs>\r\n       <use xlink:href=\"#DejaVuSans-78\"/>\r\n       <use x=\"74.804688\" xlink:href=\"#DejaVuSans-101\"/>\r\n       <use x=\"136.328125\" xlink:href=\"#DejaVuSans-119\"/>\r\n       <use x=\"218.115234\" xlink:href=\"#DejaVuSans-32\"/>\r\n       <use x=\"249.902344\" xlink:href=\"#DejaVuSans-90\"/>\r\n       <use x=\"318.408203\" xlink:href=\"#DejaVuSans-101\"/>\r\n       <use x=\"379.931641\" xlink:href=\"#DejaVuSans-97\"/>\r\n       <use x=\"441.210938\" xlink:href=\"#DejaVuSans-108\"/>\r\n       <use x=\"468.994141\" xlink:href=\"#DejaVuSans-97\"/>\r\n       <use x=\"530.273438\" xlink:href=\"#DejaVuSans-110\"/>\r\n       <use x=\"593.652344\" xlink:href=\"#DejaVuSans-100\"/>\r\n      </g>\r\n     </g>\r\n    </g>\r\n    <g id=\"ytick_8\">\r\n     <g id=\"line2d_16\">\r\n      <g>\r\n       <use style=\"stroke:#000000;stroke-width:0.8;\" x=\"93.592187\" xlink:href=\"#m8862ae39d4\" y=\"158.059535\"/>\r\n      </g>\r\n     </g>\r\n     <g id=\"text_17\">\r\n      <!-- Sweden -->\r\n      <g transform=\"translate(47.073437 161.858754)scale(0.1 -0.1)\">\r\n       <use xlink:href=\"#DejaVuSans-83\"/>\r\n       <use x=\"63.476562\" xlink:href=\"#DejaVuSans-119\"/>\r\n       <use x=\"145.263672\" xlink:href=\"#DejaVuSans-101\"/>\r\n       <use x=\"206.787109\" xlink:href=\"#DejaVuSans-100\"/>\r\n       <use x=\"270.263672\" xlink:href=\"#DejaVuSans-101\"/>\r\n       <use x=\"331.787109\" xlink:href=\"#DejaVuSans-110\"/>\r\n      </g>\r\n     </g>\r\n    </g>\r\n    <g id=\"ytick_9\">\r\n     <g id=\"line2d_17\">\r\n      <g>\r\n       <use style=\"stroke:#000000;stroke-width:0.8;\" x=\"93.592187\" xlink:href=\"#m8862ae39d4\" y=\"150.397801\"/>\r\n      </g>\r\n     </g>\r\n     <g id=\"text_18\">\r\n      <!-- Australia -->\r\n      <g transform=\"translate(42.360937 154.19702)scale(0.1 -0.1)\">\r\n       <defs>\r\n        <path d=\"M 34.1875 63.1875 \r\nL 20.796875 26.90625 \r\nL 47.609375 26.90625 \r\nz\r\nM 28.609375 72.90625 \r\nL 39.796875 72.90625 \r\nL 67.578125 0 \r\nL 57.328125 0 \r\nL 50.6875 18.703125 \r\nL 17.828125 18.703125 \r\nL 11.1875 0 \r\nL 0.78125 0 \r\nz\r\n\" id=\"DejaVuSans-65\"/>\r\n        <path d=\"M 8.5 21.578125 \r\nL 8.5 54.6875 \r\nL 17.484375 54.6875 \r\nL 17.484375 21.921875 \r\nQ 17.484375 14.15625 20.5 10.265625 \r\nQ 23.53125 6.390625 29.59375 6.390625 \r\nQ 36.859375 6.390625 41.078125 11.03125 \r\nQ 45.3125 15.671875 45.3125 23.6875 \r\nL 45.3125 54.6875 \r\nL 54.296875 54.6875 \r\nL 54.296875 0 \r\nL 45.3125 0 \r\nL 45.3125 8.40625 \r\nQ 42.046875 3.421875 37.71875 1 \r\nQ 33.40625 -1.421875 27.6875 -1.421875 \r\nQ 18.265625 -1.421875 13.375 4.4375 \r\nQ 8.5 10.296875 8.5 21.578125 \r\nz\r\nM 31.109375 56 \r\nz\r\n\" id=\"DejaVuSans-117\"/>\r\n       </defs>\r\n       <use xlink:href=\"#DejaVuSans-65\"/>\r\n       <use x=\"68.408203\" xlink:href=\"#DejaVuSans-117\"/>\r\n       <use x=\"131.787109\" xlink:href=\"#DejaVuSans-115\"/>\r\n       <use x=\"183.886719\" xlink:href=\"#DejaVuSans-116\"/>\r\n       <use x=\"223.095703\" xlink:href=\"#DejaVuSans-114\"/>\r\n       <use x=\"264.208984\" xlink:href=\"#DejaVuSans-97\"/>\r\n       <use x=\"325.488281\" xlink:href=\"#DejaVuSans-108\"/>\r\n       <use x=\"353.271484\" xlink:href=\"#DejaVuSans-105\"/>\r\n       <use x=\"381.054688\" xlink:href=\"#DejaVuSans-97\"/>\r\n      </g>\r\n     </g>\r\n    </g>\r\n    <g id=\"ytick_10\">\r\n     <g id=\"line2d_18\">\r\n      <g>\r\n       <use style=\"stroke:#000000;stroke-width:0.8;\" x=\"93.592187\" xlink:href=\"#m8862ae39d4\" y=\"142.736068\"/>\r\n      </g>\r\n     </g>\r\n     <g id=\"text_19\">\r\n      <!-- Israel -->\r\n      <g transform=\"translate(59.2625 146.535286)scale(0.1 -0.1)\">\r\n       <use xlink:href=\"#DejaVuSans-73\"/>\r\n       <use x=\"29.492188\" xlink:href=\"#DejaVuSans-115\"/>\r\n       <use x=\"81.591797\" xlink:href=\"#DejaVuSans-114\"/>\r\n       <use x=\"122.705078\" xlink:href=\"#DejaVuSans-97\"/>\r\n       <use x=\"183.984375\" xlink:href=\"#DejaVuSans-101\"/>\r\n       <use x=\"245.507812\" xlink:href=\"#DejaVuSans-108\"/>\r\n      </g>\r\n     </g>\r\n    </g>\r\n    <g id=\"ytick_11\">\r\n     <g id=\"line2d_19\">\r\n      <g>\r\n       <use style=\"stroke:#000000;stroke-width:0.8;\" x=\"93.592187\" xlink:href=\"#m8862ae39d4\" y=\"135.074334\"/>\r\n      </g>\r\n     </g>\r\n     <g id=\"text_20\">\r\n      <!-- Austria -->\r\n      <g transform=\"translate(51.267187 138.873553)scale(0.1 -0.1)\">\r\n       <use xlink:href=\"#DejaVuSans-65\"/>\r\n       <use x=\"68.408203\" xlink:href=\"#DejaVuSans-117\"/>\r\n       <use x=\"131.787109\" xlink:href=\"#DejaVuSans-115\"/>\r\n       <use x=\"183.886719\" xlink:href=\"#DejaVuSans-116\"/>\r\n       <use x=\"223.095703\" xlink:href=\"#DejaVuSans-114\"/>\r\n       <use x=\"264.208984\" xlink:href=\"#DejaVuSans-105\"/>\r\n       <use x=\"291.992188\" xlink:href=\"#DejaVuSans-97\"/>\r\n      </g>\r\n     </g>\r\n    </g>\r\n    <g id=\"ytick_12\">\r\n     <g id=\"line2d_20\">\r\n      <g>\r\n       <use style=\"stroke:#000000;stroke-width:0.8;\" x=\"93.592187\" xlink:href=\"#m8862ae39d4\" y=\"127.4126\"/>\r\n      </g>\r\n     </g>\r\n     <g id=\"text_21\">\r\n      <!-- Germany -->\r\n      <g transform=\"translate(40.629687 131.211819)scale(0.1 -0.1)\">\r\n       <defs>\r\n        <path d=\"M 59.515625 10.40625 \r\nL 59.515625 29.984375 \r\nL 43.40625 29.984375 \r\nL 43.40625 38.09375 \r\nL 69.28125 38.09375 \r\nL 69.28125 6.78125 \r\nQ 63.578125 2.734375 56.6875 0.65625 \r\nQ 49.8125 -1.421875 42 -1.421875 \r\nQ 24.90625 -1.421875 15.25 8.5625 \r\nQ 5.609375 18.5625 5.609375 36.375 \r\nQ 5.609375 54.25 15.25 64.234375 \r\nQ 24.90625 74.21875 42 74.21875 \r\nQ 49.125 74.21875 55.546875 72.453125 \r\nQ 61.96875 70.703125 67.390625 67.28125 \r\nL 67.390625 56.78125 \r\nQ 61.921875 61.421875 55.765625 63.765625 \r\nQ 49.609375 66.109375 42.828125 66.109375 \r\nQ 29.4375 66.109375 22.71875 58.640625 \r\nQ 16.015625 51.171875 16.015625 36.375 \r\nQ 16.015625 21.625 22.71875 14.15625 \r\nQ 29.4375 6.6875 42.828125 6.6875 \r\nQ 48.046875 6.6875 52.140625 7.59375 \r\nQ 56.25 8.5 59.515625 10.40625 \r\nz\r\n\" id=\"DejaVuSans-71\"/>\r\n       </defs>\r\n       <use xlink:href=\"#DejaVuSans-71\"/>\r\n       <use x=\"77.490234\" xlink:href=\"#DejaVuSans-101\"/>\r\n       <use x=\"139.013672\" xlink:href=\"#DejaVuSans-114\"/>\r\n       <use x=\"178.376953\" xlink:href=\"#DejaVuSans-109\"/>\r\n       <use x=\"275.789062\" xlink:href=\"#DejaVuSans-97\"/>\r\n       <use x=\"337.068359\" xlink:href=\"#DejaVuSans-110\"/>\r\n       <use x=\"400.447266\" xlink:href=\"#DejaVuSans-121\"/>\r\n      </g>\r\n     </g>\r\n    </g>\r\n    <g id=\"ytick_13\">\r\n     <g id=\"line2d_21\">\r\n      <g>\r\n       <use style=\"stroke:#000000;stroke-width:0.8;\" x=\"93.592187\" xlink:href=\"#m8862ae39d4\" y=\"119.750867\"/>\r\n      </g>\r\n     </g>\r\n     <g id=\"text_22\">\r\n      <!-- Belgium -->\r\n      <g transform=\"translate(45.595312 123.550086)scale(0.1 -0.1)\">\r\n       <defs>\r\n        <path d=\"M 19.671875 34.8125 \r\nL 19.671875 8.109375 \r\nL 35.5 8.109375 \r\nQ 43.453125 8.109375 47.28125 11.40625 \r\nQ 51.125 14.703125 51.125 21.484375 \r\nQ 51.125 28.328125 47.28125 31.5625 \r\nQ 43.453125 34.8125 35.5 34.8125 \r\nz\r\nM 19.671875 64.796875 \r\nL 19.671875 42.828125 \r\nL 34.28125 42.828125 \r\nQ 41.5 42.828125 45.03125 45.53125 \r\nQ 48.578125 48.25 48.578125 53.8125 \r\nQ 48.578125 59.328125 45.03125 62.0625 \r\nQ 41.5 64.796875 34.28125 64.796875 \r\nz\r\nM 9.8125 72.90625 \r\nL 35.015625 72.90625 \r\nQ 46.296875 72.90625 52.390625 68.21875 \r\nQ 58.5 63.53125 58.5 54.890625 \r\nQ 58.5 48.1875 55.375 44.234375 \r\nQ 52.25 40.28125 46.1875 39.3125 \r\nQ 53.46875 37.75 57.5 32.78125 \r\nQ 61.53125 27.828125 61.53125 20.40625 \r\nQ 61.53125 10.640625 54.890625 5.3125 \r\nQ 48.25 0 35.984375 0 \r\nL 9.8125 0 \r\nz\r\n\" id=\"DejaVuSans-66\"/>\r\n        <path d=\"M 45.40625 27.984375 \r\nQ 45.40625 37.75 41.375 43.109375 \r\nQ 37.359375 48.484375 30.078125 48.484375 \r\nQ 22.859375 48.484375 18.828125 43.109375 \r\nQ 14.796875 37.75 14.796875 27.984375 \r\nQ 14.796875 18.265625 18.828125 12.890625 \r\nQ 22.859375 7.515625 30.078125 7.515625 \r\nQ 37.359375 7.515625 41.375 12.890625 \r\nQ 45.40625 18.265625 45.40625 27.984375 \r\nz\r\nM 54.390625 6.78125 \r\nQ 54.390625 -7.171875 48.1875 -13.984375 \r\nQ 42 -20.796875 29.203125 -20.796875 \r\nQ 24.46875 -20.796875 20.265625 -20.09375 \r\nQ 16.0625 -19.390625 12.109375 -17.921875 \r\nL 12.109375 -9.1875 \r\nQ 16.0625 -11.328125 19.921875 -12.34375 \r\nQ 23.78125 -13.375 27.78125 -13.375 \r\nQ 36.625 -13.375 41.015625 -8.765625 \r\nQ 45.40625 -4.15625 45.40625 5.171875 \r\nL 45.40625 9.625 \r\nQ 42.625 4.78125 38.28125 2.390625 \r\nQ 33.9375 0 27.875 0 \r\nQ 17.828125 0 11.671875 7.65625 \r\nQ 5.515625 15.328125 5.515625 27.984375 \r\nQ 5.515625 40.671875 11.671875 48.328125 \r\nQ 17.828125 56 27.875 56 \r\nQ 33.9375 56 38.28125 53.609375 \r\nQ 42.625 51.21875 45.40625 46.390625 \r\nL 45.40625 54.6875 \r\nL 54.390625 54.6875 \r\nz\r\n\" id=\"DejaVuSans-103\"/>\r\n       </defs>\r\n       <use xlink:href=\"#DejaVuSans-66\"/>\r\n       <use x=\"68.603516\" xlink:href=\"#DejaVuSans-101\"/>\r\n       <use x=\"130.126953\" xlink:href=\"#DejaVuSans-108\"/>\r\n       <use x=\"157.910156\" xlink:href=\"#DejaVuSans-103\"/>\r\n       <use x=\"221.386719\" xlink:href=\"#DejaVuSans-105\"/>\r\n       <use x=\"249.169922\" xlink:href=\"#DejaVuSans-117\"/>\r\n       <use x=\"312.548828\" xlink:href=\"#DejaVuSans-109\"/>\r\n      </g>\r\n     </g>\r\n    </g>\r\n    <g id=\"ytick_14\">\r\n     <g id=\"line2d_22\">\r\n      <g>\r\n       <use style=\"stroke:#000000;stroke-width:0.8;\" x=\"93.592187\" xlink:href=\"#m8862ae39d4\" y=\"112.089133\"/>\r\n      </g>\r\n     </g>\r\n     <g id=\"text_23\">\r\n      <!-- Luxembourg -->\r\n      <g transform=\"translate(24.26875 115.888352)scale(0.1 -0.1)\">\r\n       <defs>\r\n        <path d=\"M 9.8125 72.90625 \r\nL 19.671875 72.90625 \r\nL 19.671875 8.296875 \r\nL 55.171875 8.296875 \r\nL 55.171875 0 \r\nL 9.8125 0 \r\nz\r\n\" id=\"DejaVuSans-76\"/>\r\n        <path d=\"M 54.890625 54.6875 \r\nL 35.109375 28.078125 \r\nL 55.90625 0 \r\nL 45.3125 0 \r\nL 29.390625 21.484375 \r\nL 13.484375 0 \r\nL 2.875 0 \r\nL 24.125 28.609375 \r\nL 4.6875 54.6875 \r\nL 15.28125 54.6875 \r\nL 29.78125 35.203125 \r\nL 44.28125 54.6875 \r\nz\r\n\" id=\"DejaVuSans-120\"/>\r\n        <path d=\"M 48.6875 27.296875 \r\nQ 48.6875 37.203125 44.609375 42.84375 \r\nQ 40.53125 48.484375 33.40625 48.484375 \r\nQ 26.265625 48.484375 22.1875 42.84375 \r\nQ 18.109375 37.203125 18.109375 27.296875 \r\nQ 18.109375 17.390625 22.1875 11.75 \r\nQ 26.265625 6.109375 33.40625 6.109375 \r\nQ 40.53125 6.109375 44.609375 11.75 \r\nQ 48.6875 17.390625 48.6875 27.296875 \r\nz\r\nM 18.109375 46.390625 \r\nQ 20.953125 51.265625 25.265625 53.625 \r\nQ 29.59375 56 35.59375 56 \r\nQ 45.5625 56 51.78125 48.09375 \r\nQ 58.015625 40.1875 58.015625 27.296875 \r\nQ 58.015625 14.40625 51.78125 6.484375 \r\nQ 45.5625 -1.421875 35.59375 -1.421875 \r\nQ 29.59375 -1.421875 25.265625 0.953125 \r\nQ 20.953125 3.328125 18.109375 8.203125 \r\nL 18.109375 0 \r\nL 9.078125 0 \r\nL 9.078125 75.984375 \r\nL 18.109375 75.984375 \r\nz\r\n\" id=\"DejaVuSans-98\"/>\r\n       </defs>\r\n       <use xlink:href=\"#DejaVuSans-76\"/>\r\n       <use x=\"53.962891\" xlink:href=\"#DejaVuSans-117\"/>\r\n       <use x=\"117.341797\" xlink:href=\"#DejaVuSans-120\"/>\r\n       <use x=\"173.396484\" xlink:href=\"#DejaVuSans-101\"/>\r\n       <use x=\"234.919922\" xlink:href=\"#DejaVuSans-109\"/>\r\n       <use x=\"332.332031\" xlink:href=\"#DejaVuSans-98\"/>\r\n       <use x=\"395.808594\" xlink:href=\"#DejaVuSans-111\"/>\r\n       <use x=\"456.990234\" xlink:href=\"#DejaVuSans-117\"/>\r\n       <use x=\"520.369141\" xlink:href=\"#DejaVuSans-114\"/>\r\n       <use x=\"559.732422\" xlink:href=\"#DejaVuSans-103\"/>\r\n      </g>\r\n     </g>\r\n    </g>\r\n    <g id=\"ytick_15\">\r\n     <g id=\"line2d_23\">\r\n      <g>\r\n       <use style=\"stroke:#000000;stroke-width:0.8;\" x=\"93.592187\" xlink:href=\"#m8862ae39d4\" y=\"104.4274\"/>\r\n      </g>\r\n     </g>\r\n     <g id=\"text_24\">\r\n      <!-- Chile -->\r\n      <g transform=\"translate(61.5625 108.226618)scale(0.1 -0.1)\">\r\n       <use xlink:href=\"#DejaVuSans-67\"/>\r\n       <use x=\"69.824219\" xlink:href=\"#DejaVuSans-104\"/>\r\n       <use x=\"133.203125\" xlink:href=\"#DejaVuSans-105\"/>\r\n       <use x=\"160.986328\" xlink:href=\"#DejaVuSans-108\"/>\r\n       <use x=\"188.769531\" xlink:href=\"#DejaVuSans-101\"/>\r\n      </g>\r\n     </g>\r\n    </g>\r\n    <g id=\"ytick_16\">\r\n     <g id=\"line2d_24\">\r\n      <g>\r\n       <use style=\"stroke:#000000;stroke-width:0.8;\" x=\"93.592187\" xlink:href=\"#m8862ae39d4\" y=\"96.765666\"/>\r\n      </g>\r\n     </g>\r\n     <g id=\"text_25\">\r\n      <!-- France -->\r\n      <g transform=\"translate(53.3375 100.564885)scale(0.1 -0.1)\">\r\n       <use xlink:href=\"#DejaVuSans-70\"/>\r\n       <use x=\"50.269531\" xlink:href=\"#DejaVuSans-114\"/>\r\n       <use x=\"91.382812\" xlink:href=\"#DejaVuSans-97\"/>\r\n       <use x=\"152.662109\" xlink:href=\"#DejaVuSans-110\"/>\r\n       <use x=\"216.041016\" xlink:href=\"#DejaVuSans-99\"/>\r\n       <use x=\"271.021484\" xlink:href=\"#DejaVuSans-101\"/>\r\n      </g>\r\n     </g>\r\n    </g>\r\n    <g id=\"ytick_17\">\r\n     <g id=\"line2d_25\">\r\n      <g>\r\n       <use style=\"stroke:#000000;stroke-width:0.8;\" x=\"93.592187\" xlink:href=\"#m8862ae39d4\" y=\"89.103932\"/>\r\n      </g>\r\n     </g>\r\n     <g id=\"text_26\">\r\n      <!-- Spain -->\r\n      <g transform=\"translate(58.651562 92.903151)scale(0.1 -0.1)\">\r\n       <use xlink:href=\"#DejaVuSans-83\"/>\r\n       <use x=\"63.476562\" xlink:href=\"#DejaVuSans-112\"/>\r\n       <use x=\"126.953125\" xlink:href=\"#DejaVuSans-97\"/>\r\n       <use x=\"188.232422\" xlink:href=\"#DejaVuSans-105\"/>\r\n       <use x=\"216.015625\" xlink:href=\"#DejaVuSans-110\"/>\r\n      </g>\r\n     </g>\r\n    </g>\r\n    <g id=\"ytick_18\">\r\n     <g id=\"line2d_26\">\r\n      <g>\r\n       <use style=\"stroke:#000000;stroke-width:0.8;\" x=\"93.592187\" xlink:href=\"#m8862ae39d4\" y=\"81.442199\"/>\r\n      </g>\r\n     </g>\r\n     <g id=\"text_27\">\r\n      <!-- Slovakia -->\r\n      <g transform=\"translate(44.603125 85.241417)scale(0.1 -0.1)\">\r\n       <defs>\r\n        <path d=\"M 2.984375 54.6875 \r\nL 12.5 54.6875 \r\nL 29.59375 8.796875 \r\nL 46.6875 54.6875 \r\nL 56.203125 54.6875 \r\nL 35.6875 0 \r\nL 23.484375 0 \r\nz\r\n\" id=\"DejaVuSans-118\"/>\r\n       </defs>\r\n       <use xlink:href=\"#DejaVuSans-83\"/>\r\n       <use x=\"63.476562\" xlink:href=\"#DejaVuSans-108\"/>\r\n       <use x=\"91.259766\" xlink:href=\"#DejaVuSans-111\"/>\r\n       <use x=\"152.441406\" xlink:href=\"#DejaVuSans-118\"/>\r\n       <use x=\"211.621094\" xlink:href=\"#DejaVuSans-97\"/>\r\n       <use x=\"272.900391\" xlink:href=\"#DejaVuSans-107\"/>\r\n       <use x=\"330.810547\" xlink:href=\"#DejaVuSans-105\"/>\r\n       <use x=\"358.59375\" xlink:href=\"#DejaVuSans-97\"/>\r\n      </g>\r\n     </g>\r\n    </g>\r\n    <g id=\"ytick_19\">\r\n     <g id=\"line2d_27\">\r\n      <g>\r\n       <use style=\"stroke:#000000;stroke-width:0.8;\" x=\"93.592187\" xlink:href=\"#m8862ae39d4\" y=\"73.780465\"/>\r\n      </g>\r\n     </g>\r\n     <g id=\"text_28\">\r\n      <!-- Italy -->\r\n      <g transform=\"translate(64.896875 77.579684)scale(0.1 -0.1)\">\r\n       <use xlink:href=\"#DejaVuSans-73\"/>\r\n       <use x=\"29.492188\" xlink:href=\"#DejaVuSans-116\"/>\r\n       <use x=\"68.701172\" xlink:href=\"#DejaVuSans-97\"/>\r\n       <use x=\"129.980469\" xlink:href=\"#DejaVuSans-108\"/>\r\n       <use x=\"157.763672\" xlink:href=\"#DejaVuSans-121\"/>\r\n      </g>\r\n     </g>\r\n    </g>\r\n    <g id=\"ytick_20\">\r\n     <g id=\"line2d_28\">\r\n      <g>\r\n       <use style=\"stroke:#000000;stroke-width:0.8;\" x=\"93.592187\" xlink:href=\"#m8862ae39d4\" y=\"66.118732\"/>\r\n      </g>\r\n     </g>\r\n     <g id=\"text_29\">\r\n      <!-- Latvia -->\r\n      <g transform=\"translate(56.146875 69.91795)scale(0.1 -0.1)\">\r\n       <use xlink:href=\"#DejaVuSans-76\"/>\r\n       <use x=\"55.712891\" xlink:href=\"#DejaVuSans-97\"/>\r\n       <use x=\"116.992188\" xlink:href=\"#DejaVuSans-116\"/>\r\n       <use x=\"156.201172\" xlink:href=\"#DejaVuSans-118\"/>\r\n       <use x=\"215.380859\" xlink:href=\"#DejaVuSans-105\"/>\r\n       <use x=\"243.164062\" xlink:href=\"#DejaVuSans-97\"/>\r\n      </g>\r\n     </g>\r\n    </g>\r\n    <g id=\"ytick_21\">\r\n     <g id=\"line2d_29\">\r\n      <g>\r\n       <use style=\"stroke:#000000;stroke-width:0.8;\" x=\"93.592187\" xlink:href=\"#m8862ae39d4\" y=\"58.456998\"/>\r\n      </g>\r\n     </g>\r\n     <g id=\"text_30\">\r\n      <!-- Slovenia -->\r\n      <g transform=\"translate(44.03125 62.256217)scale(0.1 -0.1)\">\r\n       <use xlink:href=\"#DejaVuSans-83\"/>\r\n       <use x=\"63.476562\" xlink:href=\"#DejaVuSans-108\"/>\r\n       <use x=\"91.259766\" xlink:href=\"#DejaVuSans-111\"/>\r\n       <use x=\"152.441406\" xlink:href=\"#DejaVuSans-118\"/>\r\n       <use x=\"211.621094\" xlink:href=\"#DejaVuSans-101\"/>\r\n       <use x=\"273.144531\" xlink:href=\"#DejaVuSans-110\"/>\r\n       <use x=\"336.523438\" xlink:href=\"#DejaVuSans-105\"/>\r\n       <use x=\"364.306641\" xlink:href=\"#DejaVuSans-97\"/>\r\n      </g>\r\n     </g>\r\n    </g>\r\n    <g id=\"ytick_22\">\r\n     <g id=\"line2d_30\">\r\n      <g>\r\n       <use style=\"stroke:#000000;stroke-width:0.8;\" x=\"93.592187\" xlink:href=\"#m8862ae39d4\" y=\"50.795264\"/>\r\n      </g>\r\n     </g>\r\n     <g id=\"text_31\">\r\n      <!-- Estonia -->\r\n      <g transform=\"translate(49.78125 54.594483)scale(0.1 -0.1)\">\r\n       <defs>\r\n        <path d=\"M 9.8125 72.90625 \r\nL 55.90625 72.90625 \r\nL 55.90625 64.59375 \r\nL 19.671875 64.59375 \r\nL 19.671875 43.015625 \r\nL 54.390625 43.015625 \r\nL 54.390625 34.71875 \r\nL 19.671875 34.71875 \r\nL 19.671875 8.296875 \r\nL 56.78125 8.296875 \r\nL 56.78125 0 \r\nL 9.8125 0 \r\nz\r\n\" id=\"DejaVuSans-69\"/>\r\n       </defs>\r\n       <use xlink:href=\"#DejaVuSans-69\"/>\r\n       <use x=\"63.183594\" xlink:href=\"#DejaVuSans-115\"/>\r\n       <use x=\"115.283203\" xlink:href=\"#DejaVuSans-116\"/>\r\n       <use x=\"154.492188\" xlink:href=\"#DejaVuSans-111\"/>\r\n       <use x=\"215.673828\" xlink:href=\"#DejaVuSans-110\"/>\r\n       <use x=\"279.052734\" xlink:href=\"#DejaVuSans-105\"/>\r\n       <use x=\"306.835938\" xlink:href=\"#DejaVuSans-97\"/>\r\n      </g>\r\n     </g>\r\n    </g>\r\n    <g id=\"ytick_23\">\r\n     <g id=\"line2d_31\">\r\n      <g>\r\n       <use style=\"stroke:#000000;stroke-width:0.8;\" x=\"93.592187\" xlink:href=\"#m8862ae39d4\" y=\"43.133531\"/>\r\n      </g>\r\n     </g>\r\n     <g id=\"text_32\">\r\n      <!-- Turkey -->\r\n      <g transform=\"translate(54.048437 46.932749)scale(0.1 -0.1)\">\r\n       <defs>\r\n        <path d=\"M -0.296875 72.90625 \r\nL 61.375 72.90625 \r\nL 61.375 64.59375 \r\nL 35.5 64.59375 \r\nL 35.5 0 \r\nL 25.59375 0 \r\nL 25.59375 64.59375 \r\nL -0.296875 64.59375 \r\nz\r\n\" id=\"DejaVuSans-84\"/>\r\n       </defs>\r\n       <use xlink:href=\"#DejaVuSans-84\"/>\r\n       <use x=\"45.958984\" xlink:href=\"#DejaVuSans-117\"/>\r\n       <use x=\"109.337891\" xlink:href=\"#DejaVuSans-114\"/>\r\n       <use x=\"150.451172\" xlink:href=\"#DejaVuSans-107\"/>\r\n       <use x=\"204.736328\" xlink:href=\"#DejaVuSans-101\"/>\r\n       <use x=\"266.259766\" xlink:href=\"#DejaVuSans-121\"/>\r\n      </g>\r\n     </g>\r\n    </g>\r\n    <g id=\"ytick_24\">\r\n     <g id=\"line2d_32\">\r\n      <g>\r\n       <use style=\"stroke:#000000;stroke-width:0.8;\" x=\"93.592187\" xlink:href=\"#m8862ae39d4\" y=\"35.471797\"/>\r\n      </g>\r\n     </g>\r\n     <g id=\"text_33\">\r\n      <!-- Hungary -->\r\n      <g transform=\"translate(43.890625 39.271016)scale(0.1 -0.1)\">\r\n       <use xlink:href=\"#DejaVuSans-72\"/>\r\n       <use x=\"75.195312\" xlink:href=\"#DejaVuSans-117\"/>\r\n       <use x=\"138.574219\" xlink:href=\"#DejaVuSans-110\"/>\r\n       <use x=\"201.953125\" xlink:href=\"#DejaVuSans-103\"/>\r\n       <use x=\"265.429688\" xlink:href=\"#DejaVuSans-97\"/>\r\n       <use x=\"326.708984\" xlink:href=\"#DejaVuSans-114\"/>\r\n       <use x=\"367.822266\" xlink:href=\"#DejaVuSans-121\"/>\r\n      </g>\r\n     </g>\r\n    </g>\r\n    <g id=\"ytick_25\">\r\n     <g id=\"line2d_33\">\r\n      <g>\r\n       <use style=\"stroke:#000000;stroke-width:0.8;\" x=\"93.592187\" xlink:href=\"#m8862ae39d4\" y=\"27.810063\"/>\r\n      </g>\r\n     </g>\r\n     <g id=\"text_34\">\r\n      <!-- Greece -->\r\n      <g transform=\"translate(51 31.609282)scale(0.1 -0.1)\">\r\n       <use xlink:href=\"#DejaVuSans-71\"/>\r\n       <use x=\"77.490234\" xlink:href=\"#DejaVuSans-114\"/>\r\n       <use x=\"116.353516\" xlink:href=\"#DejaVuSans-101\"/>\r\n       <use x=\"177.876953\" xlink:href=\"#DejaVuSans-101\"/>\r\n       <use x=\"239.400391\" xlink:href=\"#DejaVuSans-99\"/>\r\n       <use x=\"294.380859\" xlink:href=\"#DejaVuSans-101\"/>\r\n      </g>\r\n     </g>\r\n    </g>\r\n    <g id=\"ytick_26\">\r\n     <g id=\"line2d_34\">\r\n      <g>\r\n       <use style=\"stroke:#000000;stroke-width:0.8;\" x=\"93.592187\" xlink:href=\"#m8862ae39d4\" y=\"20.14833\"/>\r\n      </g>\r\n     </g>\r\n     <g id=\"text_35\">\r\n      <!-- Portugal -->\r\n      <g transform=\"translate(45.182812 23.947549)scale(0.1 -0.1)\">\r\n       <defs>\r\n        <path d=\"M 19.671875 64.796875 \r\nL 19.671875 37.40625 \r\nL 32.078125 37.40625 \r\nQ 38.96875 37.40625 42.71875 40.96875 \r\nQ 46.484375 44.53125 46.484375 51.125 \r\nQ 46.484375 57.671875 42.71875 61.234375 \r\nQ 38.96875 64.796875 32.078125 64.796875 \r\nz\r\nM 9.8125 72.90625 \r\nL 32.078125 72.90625 \r\nQ 44.34375 72.90625 50.609375 67.359375 \r\nQ 56.890625 61.8125 56.890625 51.125 \r\nQ 56.890625 40.328125 50.609375 34.8125 \r\nQ 44.34375 29.296875 32.078125 29.296875 \r\nL 19.671875 29.296875 \r\nL 19.671875 0 \r\nL 9.8125 0 \r\nz\r\n\" id=\"DejaVuSans-80\"/>\r\n       </defs>\r\n       <use xlink:href=\"#DejaVuSans-80\"/>\r\n       <use x=\"56.677734\" xlink:href=\"#DejaVuSans-111\"/>\r\n       <use x=\"117.859375\" xlink:href=\"#DejaVuSans-114\"/>\r\n       <use x=\"158.972656\" xlink:href=\"#DejaVuSans-116\"/>\r\n       <use x=\"198.181641\" xlink:href=\"#DejaVuSans-117\"/>\r\n       <use x=\"261.560547\" xlink:href=\"#DejaVuSans-103\"/>\r\n       <use x=\"325.037109\" xlink:href=\"#DejaVuSans-97\"/>\r\n       <use x=\"386.316406\" xlink:href=\"#DejaVuSans-108\"/>\r\n      </g>\r\n     </g>\r\n    </g>\r\n    <g id=\"text_36\">\r\n     <!-- Country -->\r\n     <g transform=\"translate(14.798437 135.783281)rotate(-90)scale(0.1 -0.1)\">\r\n      <use xlink:href=\"#DejaVuSans-67\"/>\r\n      <use x=\"69.824219\" xlink:href=\"#DejaVuSans-111\"/>\r\n      <use x=\"131.005859\" xlink:href=\"#DejaVuSans-117\"/>\r\n      <use x=\"194.384766\" xlink:href=\"#DejaVuSans-110\"/>\r\n      <use x=\"257.763672\" xlink:href=\"#DejaVuSans-116\"/>\r\n      <use x=\"296.972656\" xlink:href=\"#DejaVuSans-114\"/>\r\n      <use x=\"338.085938\" xlink:href=\"#DejaVuSans-121\"/>\r\n     </g>\r\n    </g>\r\n   </g>\r\n   <g id=\"patch_29\">\r\n    <path d=\"M 93.592187 224.64 \r\nL 93.592187 7.2 \r\n\" style=\"fill:none;stroke:#000000;stroke-linecap:square;stroke-linejoin:miter;stroke-width:0.8;\"/>\r\n   </g>\r\n   <g id=\"patch_30\">\r\n    <path d=\"M 428.392187 224.64 \r\nL 428.392187 7.2 \r\n\" style=\"fill:none;stroke:#000000;stroke-linecap:square;stroke-linejoin:miter;stroke-width:0.8;\"/>\r\n   </g>\r\n   <g id=\"patch_31\">\r\n    <path d=\"M 93.592187 224.64 \r\nL 428.392187 224.64 \r\n\" style=\"fill:none;stroke:#000000;stroke-linecap:square;stroke-linejoin:miter;stroke-width:0.8;\"/>\r\n   </g>\r\n   <g id=\"patch_32\">\r\n    <path d=\"M 93.592187 7.2 \r\nL 428.392187 7.2 \r\n\" style=\"fill:none;stroke:#000000;stroke-linecap:square;stroke-linejoin:miter;stroke-width:0.8;\"/>\r\n   </g>\r\n  </g>\r\n </g>\r\n <defs>\r\n  <clipPath id=\"pa86e369346\">\r\n   <rect height=\"217.44\" width=\"334.8\" x=\"93.592187\" y=\"7.2\"/>\r\n  </clipPath>\r\n </defs>\r\n</svg>\r\n",
      "image/png": "[encoded data removed]"
     },
     "metadata": {
      "needs_background": "light"
     }
    }
   ],
   "source": [
    "#World Happiness Barchart Horizantal\n",
    "\n",
    "\n",
    "plt.barh(clean_happy_etoh_ssri[\"Country\"], clean_happy_etoh_ssri[\"Happiness_Score\"], color = \"blue\")\n",
    "plt.ylabel(\"Country\")\n",
    "plt.xlabel(\"Happiness Score\")\n",
    "# plt.savefig(\"Images/whappyscore.png\")"
   ]
  },
  {
   "cell_type": "code",
   "execution_count": null,
   "metadata": {},
   "outputs": [],
   "source": []
  }
 ],
 "metadata": {
  "kernelspec": {
   "display_name": "Python 3",
   "language": "python",
   "name": "python3"
  },
  "language_info": {
   "codemirror_mode": {
    "name": "ipython",
    "version": 3
   },
   "file_extension": ".py",
   "mimetype": "text/x-python",
   "name": "python",
   "nbconvert_exporter": "python",
   "pygments_lexer": "ipython3",
   "version": "3.8.5-final"
  }
 },
 "nbformat": 4,
 "nbformat_minor": 4
}